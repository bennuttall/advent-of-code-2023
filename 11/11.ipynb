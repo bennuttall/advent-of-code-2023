{
 "cells": [
  {
   "cell_type": "code",
   "execution_count": 1,
   "metadata": {},
   "outputs": [],
   "source": [
    "with open(\"input\") as f:\n",
    "    data = [line.strip() for line in f]"
   ]
  },
  {
   "cell_type": "code",
   "execution_count": 2,
   "metadata": {},
   "outputs": [],
   "source": [
    "from itertools import combinations\n",
    "\n",
    "def get_empty_rows():\n",
    "    for y, line in enumerate(data):\n",
    "        if all(c == \".\" for c in line):\n",
    "            yield y\n",
    "\n",
    "def get_empty_cols():\n",
    "    for x in range(len(data[0])):\n",
    "        if all(line[x] == \".\" for line in data):\n",
    "            yield x\n",
    "\n",
    "def identify_galaxies_with_cosmic_expansion(expansion_size):\n",
    "    empty_rows = set(get_empty_rows())\n",
    "    empty_cols = set(get_empty_cols())\n",
    "    y_expansion = 0\n",
    "    for y, line in enumerate(data):\n",
    "        if y in empty_rows:\n",
    "            y_expansion += expansion_size\n",
    "        x_expansion = 0\n",
    "        for x, c in enumerate(line):\n",
    "            if x in empty_cols:\n",
    "                x_expansion += expansion_size\n",
    "            if c == \"#\":\n",
    "                yield (x + x_expansion, y + y_expansion)\n",
    "\n",
    "def galaxy_pairs(expansion_size: int = 1):\n",
    "    return combinations(identify_galaxies_with_cosmic_expansion(expansion_size), r=2)\n",
    "\n",
    "def manhattan_distance(a, b):\n",
    "    x1, y1 = a\n",
    "    x2, y2 = b\n",
    "    return abs(x2 - x1) + abs(y2 - y1)"
   ]
  },
  {
   "cell_type": "code",
   "execution_count": 3,
   "metadata": {},
   "outputs": [
    {
     "name": "stdout",
     "output_type": "stream",
     "text": [
      "Part 1:\n",
      "9609130\n"
     ]
    }
   ],
   "source": [
    "print(\"Part 1:\")\n",
    "print(sum(manhattan_distance(a, b) for a, b in galaxy_pairs()))"
   ]
  },
  {
   "cell_type": "code",
   "execution_count": 4,
   "metadata": {},
   "outputs": [
    {
     "name": "stdout",
     "output_type": "stream",
     "text": [
      "Part 2:\n",
      "702152204842\n"
     ]
    }
   ],
   "source": [
    "print(\"Part 2:\")\n",
    "print(sum(manhattan_distance(a, b) for a, b in galaxy_pairs(1_000_000 - 1)))"
   ]
  }
 ],
 "metadata": {
  "kernelspec": {
   "display_name": "aoc",
   "language": "python",
   "name": "python3"
  },
  "language_info": {
   "codemirror_mode": {
    "name": "ipython",
    "version": 3
   },
   "file_extension": ".py",
   "mimetype": "text/x-python",
   "name": "python",
   "nbconvert_exporter": "python",
   "pygments_lexer": "ipython3",
   "version": "3.11.6"
  }
 },
 "nbformat": 4,
 "nbformat_minor": 2
}
