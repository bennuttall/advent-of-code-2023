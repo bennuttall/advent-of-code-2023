{
 "cells": [
  {
   "cell_type": "code",
   "execution_count": 1,
   "metadata": {},
   "outputs": [],
   "source": [
    "with open(\"input\") as f:\n",
    "    data = f.read().strip().split(\",\")"
   ]
  },
  {
   "cell_type": "code",
   "execution_count": 2,
   "metadata": {},
   "outputs": [],
   "source": [
    "def hash_alogorithm(s: str):\n",
    "    v = 0\n",
    "    for c in s:\n",
    "        v += ord(c)\n",
    "        v *= 17\n",
    "        v %= 256\n",
    "    return v"
   ]
  },
  {
   "cell_type": "code",
   "execution_count": 3,
   "metadata": {},
   "outputs": [
    {
     "name": "stdout",
     "output_type": "stream",
     "text": [
      "Part 1:\n",
      "516070\n"
     ]
    }
   ],
   "source": [
    "print(\"Part 1:\")\n",
    "print(sum(hash_alogorithm(s) for s in data))"
   ]
  },
  {
   "cell_type": "code",
   "execution_count": 4,
   "metadata": {},
   "outputs": [],
   "source": [
    "def hashmap_algorithm(s: str):\n",
    "    if \"-\" in s:\n",
    "        label = s[:-1]\n",
    "        box = hash_alogorithm(label)\n",
    "        for i, (lbl, _) in enumerate(boxes[box]):\n",
    "            if lbl == label:\n",
    "                boxes[box].pop(i)\n",
    "                return\n",
    "    else:\n",
    "        label, fl = s.split(\"=\")\n",
    "        fl = int(fl)\n",
    "        box = hash_alogorithm(label)\n",
    "        for i, (lbl, _) in enumerate(boxes[box]):\n",
    "            if lbl == label:\n",
    "                boxes[box][i] = (label, fl)\n",
    "                return\n",
    "        boxes[box].append((label, fl))\n",
    "\n",
    "def calc_focal_power():\n",
    "    for box, lenses in boxes.items():\n",
    "        for slot, (label, fl) in enumerate(lenses, start=1):\n",
    "            yield (1 + box) * slot * fl\n",
    "\n",
    "boxes = {n: [] for n in range(256)}\n",
    "for instruction in data:\n",
    "    hashmap_algorithm(instruction)"
   ]
  },
  {
   "cell_type": "code",
   "execution_count": 5,
   "metadata": {},
   "outputs": [
    {
     "name": "stdout",
     "output_type": "stream",
     "text": [
      "Part 2:\n",
      "244981\n"
     ]
    }
   ],
   "source": [
    "print(\"Part 2:\")\n",
    "print(sum(calc_focal_power()))"
   ]
  }
 ],
 "metadata": {
  "kernelspec": {
   "display_name": "aoc",
   "language": "python",
   "name": "python3"
  },
  "language_info": {
   "codemirror_mode": {
    "name": "ipython",
    "version": 3
   },
   "file_extension": ".py",
   "mimetype": "text/x-python",
   "name": "python",
   "nbconvert_exporter": "python",
   "pygments_lexer": "ipython3",
   "version": "3.11.7"
  }
 },
 "nbformat": 4,
 "nbformat_minor": 2
}
