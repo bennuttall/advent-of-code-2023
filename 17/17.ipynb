{
 "cells": [
  {
   "cell_type": "code",
   "execution_count": 1,
   "metadata": {},
   "outputs": [],
   "source": [
    "data = [\n",
    "    \"2413432311323\",\n",
    "    \"3215453535623\",\n",
    "    \"3255245654254\",\n",
    "    \"3446585845452\",\n",
    "    \"4546657867536\",\n",
    "    \"1438598798454\",\n",
    "    \"4457876987766\",\n",
    "    \"3637877979653\",\n",
    "    \"4654967986887\",\n",
    "    \"4564679986453\",\n",
    "    \"1224686865563\",\n",
    "    \"2546548887735\",\n",
    "    \"4322674655533\",\n",
    "]"
   ]
  },
  {
   "cell_type": "code",
   "execution_count": 8,
   "metadata": {},
   "outputs": [
    {
     "data": {
      "text/plain": [
       "13"
      ]
     },
     "execution_count": 8,
     "metadata": {},
     "output_type": "execute_result"
    }
   ],
   "source": [
    "def make_map():\n",
    "    map = {}\n",
    "    for y, line in enumerate(data):\n",
    "        for x, n in enumerate(line):\n",
    "            map[(x, y)] = int(n)\n",
    "    return map, (x + 1, y + 1)\n",
    "\n",
    "map, (width, height) = make_map()\n",
    "width"
   ]
  },
  {
   "cell_type": "code",
   "execution_count": 46,
   "metadata": {},
   "outputs": [],
   "source": [
    "END_BLOCK = (width - 1, height - 1)\n",
    "\n",
    "def step_delta(pos, prev):\n",
    "    x, y = pos\n",
    "    xp, yp = prev\n",
    "    return (x - xp, y - yp)\n",
    "\n",
    "def filter_existant_locations(locations):\n",
    "    return {\n",
    "        (x, y)\n",
    "        for (x, y) in locations\n",
    "        if 0 <= x < width\n",
    "        and 0 <= y < height\n",
    "    }\n",
    "\n",
    "def next_steps(*prev):\n",
    "    x, y = prev[-1]\n",
    "    if len(prev) == 1:\n",
    "        return {(x + 1, y), (x, y + 1)}\n",
    "    d1 = step_delta(prev[-1], prev[-2])\n",
    "    dx, dy = d1\n",
    "    options = {\n",
    "        (x + dy, y + dx),\n",
    "        (x - dy, y - dx),\n",
    "    }\n",
    "    if len(prev) == 4:\n",
    "        d2 = step_delta(prev[-2], prev[-3])\n",
    "        d3 = step_delta(prev[-3], prev[-4])\n",
    "        if d1 == d2 == d3:\n",
    "            return filter_existant_locations(options)\n",
    "    options.add((x + dx, y + dy))\n",
    "    return filter_existant_locations(options)\n",
    "\n",
    "def navigate(prev, heat_loss = 0):\n",
    "    global min_heat_loss\n",
    "    if prev[-1] == END_BLOCK:\n",
    "        min_heat_loss = min([heat_loss, min_heat_loss])\n",
    "        return\n",
    "    if heat_loss > min_heat_loss:\n",
    "        return\n",
    "    for next_pos in next_steps(*prev):\n",
    "        new_prev = prev[-3:] + [next_pos]\n",
    "        new_heat_loss = heat_loss + map[next_pos]\n",
    "        navigate(new_prev, new_heat_loss)"
   ]
  },
  {
   "cell_type": "code",
   "execution_count": 49,
   "metadata": {},
   "outputs": [
    {
     "ename": "KeyboardInterrupt",
     "evalue": "",
     "output_type": "error",
     "traceback": [
      "\u001b[0;31m---------------------------------------------------------------------------\u001b[0m",
      "\u001b[0;31mKeyboardInterrupt\u001b[0m                         Traceback (most recent call last)",
      "Cell \u001b[0;32mIn[49], line 4\u001b[0m\n\u001b[1;32m      1\u001b[0m \u001b[38;5;28;01mfrom\u001b[39;00m \u001b[38;5;21;01mmath\u001b[39;00m \u001b[38;5;28;01mimport\u001b[39;00m inf\n\u001b[1;32m      3\u001b[0m min_heat_loss \u001b[38;5;241m=\u001b[39m \u001b[38;5;241m103\u001b[39m\n\u001b[0;32m----> 4\u001b[0m \u001b[43mnavigate\u001b[49m\u001b[43m(\u001b[49m\u001b[43m[\u001b[49m\u001b[43m(\u001b[49m\u001b[38;5;241;43m0\u001b[39;49m\u001b[43m,\u001b[49m\u001b[43m \u001b[49m\u001b[38;5;241;43m0\u001b[39;49m\u001b[43m)\u001b[49m\u001b[43m]\u001b[49m\u001b[43m)\u001b[49m\n",
      "Cell \u001b[0;32mIn[46], line 44\u001b[0m, in \u001b[0;36mnavigate\u001b[0;34m(prev, heat_loss)\u001b[0m\n\u001b[1;32m     42\u001b[0m new_prev \u001b[38;5;241m=\u001b[39m prev[\u001b[38;5;241m-\u001b[39m\u001b[38;5;241m3\u001b[39m:] \u001b[38;5;241m+\u001b[39m [next_pos]\n\u001b[1;32m     43\u001b[0m new_heat_loss \u001b[38;5;241m=\u001b[39m heat_loss \u001b[38;5;241m+\u001b[39m \u001b[38;5;28mmap\u001b[39m[next_pos]\n\u001b[0;32m---> 44\u001b[0m \u001b[43mnavigate\u001b[49m\u001b[43m(\u001b[49m\u001b[43mnew_prev\u001b[49m\u001b[43m,\u001b[49m\u001b[43m \u001b[49m\u001b[43mnew_heat_loss\u001b[49m\u001b[43m)\u001b[49m\n",
      "Cell \u001b[0;32mIn[46], line 44\u001b[0m, in \u001b[0;36mnavigate\u001b[0;34m(prev, heat_loss)\u001b[0m\n\u001b[1;32m     42\u001b[0m new_prev \u001b[38;5;241m=\u001b[39m prev[\u001b[38;5;241m-\u001b[39m\u001b[38;5;241m3\u001b[39m:] \u001b[38;5;241m+\u001b[39m [next_pos]\n\u001b[1;32m     43\u001b[0m new_heat_loss \u001b[38;5;241m=\u001b[39m heat_loss \u001b[38;5;241m+\u001b[39m \u001b[38;5;28mmap\u001b[39m[next_pos]\n\u001b[0;32m---> 44\u001b[0m \u001b[43mnavigate\u001b[49m\u001b[43m(\u001b[49m\u001b[43mnew_prev\u001b[49m\u001b[43m,\u001b[49m\u001b[43m \u001b[49m\u001b[43mnew_heat_loss\u001b[49m\u001b[43m)\u001b[49m\n",
      "    \u001b[0;31m[... skipping similar frames: navigate at line 44 (29 times)]\u001b[0m\n",
      "Cell \u001b[0;32mIn[46], line 44\u001b[0m, in \u001b[0;36mnavigate\u001b[0;34m(prev, heat_loss)\u001b[0m\n\u001b[1;32m     42\u001b[0m new_prev \u001b[38;5;241m=\u001b[39m prev[\u001b[38;5;241m-\u001b[39m\u001b[38;5;241m3\u001b[39m:] \u001b[38;5;241m+\u001b[39m [next_pos]\n\u001b[1;32m     43\u001b[0m new_heat_loss \u001b[38;5;241m=\u001b[39m heat_loss \u001b[38;5;241m+\u001b[39m \u001b[38;5;28mmap\u001b[39m[next_pos]\n\u001b[0;32m---> 44\u001b[0m \u001b[43mnavigate\u001b[49m\u001b[43m(\u001b[49m\u001b[43mnew_prev\u001b[49m\u001b[43m,\u001b[49m\u001b[43m \u001b[49m\u001b[43mnew_heat_loss\u001b[49m\u001b[43m)\u001b[49m\n",
      "Cell \u001b[0;32mIn[46], line 34\u001b[0m, in \u001b[0;36mnavigate\u001b[0;34m(prev, heat_loss)\u001b[0m\n\u001b[1;32m     31\u001b[0m     options\u001b[38;5;241m.\u001b[39madd((x \u001b[38;5;241m+\u001b[39m dx, y \u001b[38;5;241m+\u001b[39m dy))\n\u001b[1;32m     32\u001b[0m     \u001b[38;5;28;01mreturn\u001b[39;00m filter_existant_locations(options)\n\u001b[0;32m---> 34\u001b[0m \u001b[38;5;28;01mdef\u001b[39;00m \u001b[38;5;21mnavigate\u001b[39m(prev, heat_loss \u001b[38;5;241m=\u001b[39m \u001b[38;5;241m0\u001b[39m):\n\u001b[1;32m     35\u001b[0m     \u001b[38;5;28;01mglobal\u001b[39;00m min_heat_loss\n\u001b[1;32m     36\u001b[0m     \u001b[38;5;28;01mif\u001b[39;00m prev[\u001b[38;5;241m-\u001b[39m\u001b[38;5;241m1\u001b[39m] \u001b[38;5;241m==\u001b[39m END_BLOCK:\n",
      "\u001b[0;31mKeyboardInterrupt\u001b[0m: "
     ]
    }
   ],
   "source": [
    "from math import inf\n",
    "\n",
    "min_heat_loss = 103\n",
    "navigate([(0, 0)])"
   ]
  },
  {
   "cell_type": "code",
   "execution_count": 37,
   "metadata": {},
   "outputs": [
    {
     "data": {
      "text/plain": [
       "inf"
      ]
     },
     "execution_count": 37,
     "metadata": {},
     "output_type": "execute_result"
    }
   ],
   "source": [
    "min_heat_loss"
   ]
  },
  {
   "cell_type": "code",
   "execution_count": 40,
   "metadata": {},
   "outputs": [
    {
     "data": {
      "text/plain": [
       "{(0, 1)}"
      ]
     },
     "execution_count": 40,
     "metadata": {},
     "output_type": "execute_result"
    }
   ],
   "source": [
    "next_steps((1, 0), (0, 0))"
   ]
  },
  {
   "cell_type": "code",
   "execution_count": 43,
   "metadata": {},
   "outputs": [
    {
     "data": {
      "text/plain": [
       "[3, 4, 5, 6]"
      ]
     },
     "execution_count": 43,
     "metadata": {},
     "output_type": "execute_result"
    }
   ],
   "source": [
    "[0, 1, 2, 3, 4, 5][-3:] + [6]"
   ]
  },
  {
   "cell_type": "code",
   "execution_count": null,
   "metadata": {},
   "outputs": [],
   "source": []
  }
 ],
 "metadata": {
  "kernelspec": {
   "display_name": "aoc",
   "language": "python",
   "name": "python3"
  },
  "language_info": {
   "codemirror_mode": {
    "name": "ipython",
    "version": 3
   },
   "file_extension": ".py",
   "mimetype": "text/x-python",
   "name": "python",
   "nbconvert_exporter": "python",
   "pygments_lexer": "ipython3",
   "version": "3.11.7"
  }
 },
 "nbformat": 4,
 "nbformat_minor": 2
}
