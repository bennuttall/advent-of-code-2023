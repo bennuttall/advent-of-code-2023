{
 "cells": [
  {
   "cell_type": "code",
   "execution_count": 1,
   "metadata": {},
   "outputs": [],
   "source": [
    "data = [\n",
    "    \"#.#####################\",\n",
    "    \"#.......#########...###\",\n",
    "    \"#######.#########.#.###\",\n",
    "    \"###.....#.>.>.###.#.###\",\n",
    "    \"###v#####.#v#.###.#.###\",\n",
    "    \"###.>...#.#.#.....#...#\",\n",
    "    \"###v###.#.#.#########.#\",\n",
    "    \"###...#.#.#.......#...#\",\n",
    "    \"#####.#.#.#######.#.###\",\n",
    "    \"#.....#.#.#.......#...#\",\n",
    "    \"#.#####.#.#.#########v#\",\n",
    "    \"#.#...#...#...###...>.#\",\n",
    "    \"#.#.#v#######v###.###v#\",\n",
    "    \"#...#.>.#...>.>.#.###.#\",\n",
    "    \"#####v#.#.###v#.#.###.#\",\n",
    "    \"#.....#...#...#.#.#...#\",\n",
    "    \"#.#########.###.#.#.###\",\n",
    "    \"#...###...#...#...#.###\",\n",
    "    \"###.###.#.###v#####v###\",\n",
    "    \"#...#...#.#.>.>.#.>.###\",\n",
    "    \"#.###.###.#.###.#.#v###\",\n",
    "    \"#.....###...###...#...#\",\n",
    "    \"#####################.#\",\n",
    "]"
   ]
  },
  {
   "cell_type": "code",
   "execution_count": 2,
   "metadata": {},
   "outputs": [],
   "source": [
    "with open(\"input\") as f:\n",
    "    data = [line.strip() for line in f]"
   ]
  },
  {
   "cell_type": "code",
   "execution_count": 3,
   "metadata": {},
   "outputs": [],
   "source": [
    "def make_map(part_2: bool = False):\n",
    "    paths = {}\n",
    "    for y, line in enumerate(data):\n",
    "        for x, c in enumerate(line):\n",
    "            if c in \".^v<>\":\n",
    "                paths[(x, y)] = c\n",
    "    \n",
    "    connections = {}\n",
    "    for pos in paths:\n",
    "        connections[pos] = get_connections(pos, paths, part_2)\n",
    "    \n",
    "    paths = set(paths)\n",
    "    start = min(paths)\n",
    "    finish = max(paths)\n",
    "\n",
    "    return start, finish, connections\n",
    "\n",
    "def get_connections(pos, paths, part_2):\n",
    "    if paths[pos] in \"><^v\" and not part_2:\n",
    "        return handle_slope(pos, paths)\n",
    "    x, y = pos\n",
    "    return {\n",
    "        p\n",
    "        for p in {\n",
    "            (x, y - 1),\n",
    "            (x, y + 1),\n",
    "            (x - 1, y),\n",
    "            (x + 1, y),\n",
    "        }\n",
    "        if p in paths\n",
    "    }\n",
    "\n",
    "def handle_slope(pos, map):\n",
    "    x, y = pos\n",
    "    c = map[pos]\n",
    "    return {\n",
    "        \"^\": {(x, y - 1)},\n",
    "        \"v\": {(x, y + 1)},\n",
    "        \"<\": {(x - 1, y)},\n",
    "        \">\": {(x + 1, y)},\n",
    "    }[c]"
   ]
  },
  {
   "cell_type": "code",
   "execution_count": 4,
   "metadata": {},
   "outputs": [],
   "source": [
    "import networkx as nx\n",
    "\n",
    "def find_longest_hike(connections, start, finish):\n",
    "    G = nx.DiGraph()\n",
    "\n",
    "    for k, values in connections.items():\n",
    "        for v in values:\n",
    "            G.add_edge(k, v)\n",
    "\n",
    "    return max(len(path) for path in nx.all_simple_paths(G, start, finish)) - 1"
   ]
  },
  {
   "cell_type": "code",
   "execution_count": 5,
   "metadata": {},
   "outputs": [
    {
     "name": "stdout",
     "output_type": "stream",
     "text": [
      "Part 1:\n",
      "2210\n"
     ]
    }
   ],
   "source": [
    "start, finish, connections = make_map()\n",
    "\n",
    "print(\"Part 1:\")\n",
    "print(find_longest_hike(connections, start, finish))"
   ]
  }
 ],
 "metadata": {
  "kernelspec": {
   "display_name": "aoc",
   "language": "python",
   "name": "python3"
  },
  "language_info": {
   "codemirror_mode": {
    "name": "ipython",
    "version": 3
   },
   "file_extension": ".py",
   "mimetype": "text/x-python",
   "name": "python",
   "nbconvert_exporter": "python",
   "pygments_lexer": "ipython3",
   "version": "3.11.6"
  }
 },
 "nbformat": 4,
 "nbformat_minor": 2
}
