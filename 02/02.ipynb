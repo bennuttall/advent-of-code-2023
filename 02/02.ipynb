{
 "cells": [
  {
   "cell_type": "code",
   "execution_count": 1,
   "id": "ec603245-5d3a-40b2-8598-904a9e88e8af",
   "metadata": {},
   "outputs": [],
   "source": [
    "with open('input') as f:\n",
    "    data = [line.strip() for line in f]"
   ]
  },
  {
   "cell_type": "code",
   "execution_count": 2,
   "id": "7484b6bf-1c9d-4977-ace2-7017670d71c9",
   "metadata": {},
   "outputs": [],
   "source": [
    "def process_line(line):\n",
    "    parts = line.split(': ')\n",
    "    game_id = int(parts[0].split(' ')[1])\n",
    "    sets = [\n",
    "        process_set(s)\n",
    "        for s in parts[1].split('; ')\n",
    "    ]\n",
    "    return (game_id, sets)\n",
    "\n",
    "def process_set(s):\n",
    "    return {\n",
    "        part.split(' ')[1]: int(part.split(' ')[0])\n",
    "        for part in s.split(', ')\n",
    "    }\n",
    "\n",
    "from collections import defaultdict\n",
    "\n",
    "def max_colours(sets):\n",
    "    colours = defaultdict(int)\n",
    "    for set in sets:\n",
    "        for k, v in set.items():\n",
    "            colours[k] = max([colours[k], v])\n",
    "    return dict(colours)\n",
    "\n",
    "def is_possible_game(game):\n",
    "    return game[\"red\"] <= 12 and game[\"green\"] <= 13 and game[\"blue\"] <= 14\n",
    "\n",
    "def get_possible_game_ids():\n",
    "    for line in data:\n",
    "        game_id, sets = process_line(line)\n",
    "        game = max_colours(sets)\n",
    "        if is_possible_game(game):\n",
    "            yield game_id"
   ]
  },
  {
   "cell_type": "code",
   "execution_count": 3,
   "id": "99c1b054-2233-4b55-930d-a1e5f800b8eb",
   "metadata": {},
   "outputs": [
    {
     "name": "stdout",
     "output_type": "stream",
     "text": [
      "Part 1\n",
      "2369\n"
     ]
    }
   ],
   "source": [
    "print(\"Part 1\")\n",
    "print(sum(get_possible_game_ids()))"
   ]
  },
  {
   "cell_type": "code",
   "execution_count": 4,
   "id": "e4027685-3a5c-4f47-a75f-bd262ac742ac",
   "metadata": {},
   "outputs": [],
   "source": [
    "from functools import reduce\n",
    "\n",
    "def get_powers():\n",
    "    for line in data:\n",
    "        game_id, sets = process_line(line)\n",
    "        game = max_colours(sets)\n",
    "        yield reduce(lambda x, y: x*y, game.values())"
   ]
  },
  {
   "cell_type": "code",
   "execution_count": 5,
   "id": "f8e4c4b5-a197-4bfc-af2a-0558c1b268c9",
   "metadata": {},
   "outputs": [
    {
     "name": "stdout",
     "output_type": "stream",
     "text": [
      "Part 2:\n",
      "66363\n"
     ]
    }
   ],
   "source": [
    "print(\"Part 2:\")\n",
    "print(sum(get_powers()))"
   ]
  }
 ],
 "metadata": {
  "kernelspec": {
   "display_name": "Python 3 (ipykernel)",
   "language": "python",
   "name": "python3"
  },
  "language_info": {
   "codemirror_mode": {
    "name": "ipython",
    "version": 3
   },
   "file_extension": ".py",
   "mimetype": "text/x-python",
   "name": "python",
   "nbconvert_exporter": "python",
   "pygments_lexer": "ipython3",
   "version": "3.9.6"
  }
 },
 "nbformat": 4,
 "nbformat_minor": 5
}
