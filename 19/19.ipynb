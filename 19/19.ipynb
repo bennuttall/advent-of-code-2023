{
 "cells": [
  {
   "cell_type": "code",
   "execution_count": 1,
   "metadata": {},
   "outputs": [],
   "source": [
    "with open(\"input\") as f:\n",
    "    a, b = f.read().split(\"\\n\\n\")\n",
    "    workflow_lines = [line.strip() for line in a.split(\"\\n\")]\n",
    "    part_lines = [line.strip() for line in b.split(\"\\n\") if line]"
   ]
  },
  {
   "cell_type": "code",
   "execution_count": 2,
   "metadata": {},
   "outputs": [],
   "source": [
    "def parse_workflow(s):\n",
    "    name = s[:s.index(\"{\")]\n",
    "    rules = s[s.index(\"{\")+1:s.index(\"}\")].split(\",\")\n",
    "    return name, [parse_rule(rule) for rule in rules]\n",
    "\n",
    "def parse_rule(rule):\n",
    "    try:\n",
    "        condition, workflow = rule.split(\":\")\n",
    "    except ValueError:\n",
    "        return rule\n",
    "    \n",
    "    ineq = \">\" if \">\" in condition else \"<\"\n",
    "    a, b = condition.split(ineq)\n",
    "    return (a, ineq, int(b), workflow)\n",
    "\n",
    "def parse_part(part):\n",
    "    ratings = {}\n",
    "    for r in part.replace(\"{\", \"\").replace(\"}\", \"\").split(\",\"):\n",
    "        k, v = r.split(\"=\")\n",
    "        ratings[k] = int(v)\n",
    "    ratings[\"sum\"] = sum(ratings.values())\n",
    "    return ratings"
   ]
  },
  {
   "cell_type": "code",
   "execution_count": 3,
   "metadata": {},
   "outputs": [],
   "source": [
    "workflows = {}\n",
    "for workflow in workflow_lines:\n",
    "    w, rules = parse_workflow(workflow)\n",
    "    workflows[w] = rules\n",
    "\n",
    "parts = [parse_part(part) for part in part_lines]"
   ]
  },
  {
   "cell_type": "code",
   "execution_count": 4,
   "metadata": {},
   "outputs": [],
   "source": [
    "def eval_workflow(part, w):\n",
    "    rules = workflows[w]\n",
    "    for rule in rules:\n",
    "        if type(rule) is str:\n",
    "            if rule == \"A\":\n",
    "                return True\n",
    "            if rule == \"R\":\n",
    "                return False\n",
    "            return eval_workflow(part, rule)\n",
    "        a, e, b, nxt = rule\n",
    "        a = part[a]\n",
    "        v = {\n",
    "            \">\": a > b,\n",
    "            \"<\": a < b,\n",
    "        }[e]\n",
    "        if v is True:\n",
    "            if nxt == \"A\":\n",
    "                return True\n",
    "            if nxt == \"R\":\n",
    "                return False\n",
    "            return eval_workflow(part, nxt)"
   ]
  },
  {
   "cell_type": "code",
   "execution_count": 5,
   "metadata": {},
   "outputs": [
    {
     "name": "stdout",
     "output_type": "stream",
     "text": [
      "Part 1:\n",
      "406934\n"
     ]
    }
   ],
   "source": [
    "print(\"Part 1:\")\n",
    "print(sum(part[\"sum\"] for part in parts if eval_workflow(part, \"in\")))"
   ]
  },
  {
   "cell_type": "code",
   "execution_count": 6,
   "metadata": {},
   "outputs": [
    {
     "data": {
      "text/plain": [
       "[('m', '>', 1770, 'pm'), ('m', '>', 644, 'sz'), 'nc']"
      ]
     },
     "execution_count": 6,
     "metadata": {},
     "output_type": "execute_result"
    }
   ],
   "source": [
    "workflows[\"in\"]"
   ]
  },
  {
   "cell_type": "code",
   "execution_count": null,
   "metadata": {},
   "outputs": [],
   "source": [
    "def ultimate_eval_workflow(w, n):\n",
    "    rules = workflows[w]\n",
    "    for rule in rules:\n",
    "        if type(rule) is str:\n",
    "            if rule == \"A\":\n",
    "                return n\n",
    "            if rule == \"R\":\n",
    "                return 0\n",
    "            return ultimate_eval_workflow(rule, n)\n",
    "        a, e, b, nxt = rule\n",
    "        v = {\n",
    "            \">\": 4001 - b,\n",
    "            \"<\": b - 1,\n",
    "        }[e]\n",
    "        if v is True:\n",
    "            if nxt == \"A\":\n",
    "                return 4000 \n",
    "            if nxt == \"R\":\n",
    "                return False\n",
    "            return ultimate_eval_workflow(nxt)"
   ]
  }
 ],
 "metadata": {
  "kernelspec": {
   "display_name": "aoc",
   "language": "python",
   "name": "python3"
  },
  "language_info": {
   "codemirror_mode": {
    "name": "ipython",
    "version": 3
   },
   "file_extension": ".py",
   "mimetype": "text/x-python",
   "name": "python",
   "nbconvert_exporter": "python",
   "pygments_lexer": "ipython3",
   "version": "3.11.7"
  }
 },
 "nbformat": 4,
 "nbformat_minor": 2
}
