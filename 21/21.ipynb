{
 "cells": [
  {
   "cell_type": "code",
   "execution_count": 1,
   "metadata": {},
   "outputs": [],
   "source": [
    "data = [\n",
    "    \"...........\",\n",
    "    \".....###.#.\",\n",
    "    \".###.##..#.\",\n",
    "    \"..#.#...#..\",\n",
    "    \"....#.#....\",\n",
    "    \".##..S####.\",\n",
    "    \".##..#...#.\",\n",
    "    \".......##..\",\n",
    "    \".##.#.####.\",\n",
    "    \".##..##.##.\",\n",
    "    \"...........\",\n",
    "]"
   ]
  },
  {
   "cell_type": "code",
   "execution_count": 2,
   "metadata": {},
   "outputs": [],
   "source": [
    "with open(\"input\") as f:\n",
    "    data = [line.strip() for line in f]"
   ]
  },
  {
   "cell_type": "code",
   "execution_count": 3,
   "metadata": {},
   "outputs": [],
   "source": [
    "def make_map():\n",
    "    map = set()\n",
    "    for y, line in enumerate(data):\n",
    "        for x, c in enumerate(line):\n",
    "            if c == \".\":\n",
    "                map.add((x, y))\n",
    "            elif c == \"S\":\n",
    "                map.add((x, y))\n",
    "                start = (x, y)\n",
    "    return map, start"
   ]
  },
  {
   "cell_type": "code",
   "execution_count": 4,
   "metadata": {},
   "outputs": [],
   "source": [
    "map, start = make_map()"
   ]
  },
  {
   "cell_type": "code",
   "execution_count": 5,
   "metadata": {},
   "outputs": [],
   "source": [
    "def get_next_steps(pos):\n",
    "    x, y = pos\n",
    "    return {\n",
    "        (x, y - 1),\n",
    "        (x + 1, y),\n",
    "        (x, y + 1),\n",
    "        (x - 1, y)\n",
    "    } & map"
   ]
  },
  {
   "cell_type": "code",
   "execution_count": 6,
   "metadata": {},
   "outputs": [],
   "source": [
    "def step(positions):\n",
    "    for pos in positions:\n",
    "        yield from get_next_steps(pos)"
   ]
  },
  {
   "cell_type": "code",
   "execution_count": 7,
   "metadata": {},
   "outputs": [
    {
     "name": "stdout",
     "output_type": "stream",
     "text": [
      "Part 1:\n",
      "3572\n"
     ]
    }
   ],
   "source": [
    "positions = {start}\n",
    "for i in range(64):\n",
    "    positions = set(step(positions))\n",
    "\n",
    "print(\"Part 1:\")\n",
    "print(len(positions))"
   ]
  }
 ],
 "metadata": {
  "kernelspec": {
   "display_name": "aoc",
   "language": "python",
   "name": "python3"
  },
  "language_info": {
   "codemirror_mode": {
    "name": "ipython",
    "version": 3
   },
   "file_extension": ".py",
   "mimetype": "text/x-python",
   "name": "python",
   "nbconvert_exporter": "python",
   "pygments_lexer": "ipython3",
   "version": "3.11.7"
  }
 },
 "nbformat": 4,
 "nbformat_minor": 2
}
