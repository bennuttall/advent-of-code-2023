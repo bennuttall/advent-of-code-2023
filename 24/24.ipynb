{
 "cells": [
  {
   "cell_type": "code",
   "execution_count": 1,
   "metadata": {},
   "outputs": [],
   "source": [
    "data = [\n",
    "    \"19, 13, 30 @ -2,  1, -2\",\n",
    "    \"18, 19, 22 @ -1, -1, -2\",\n",
    "    \"20, 25, 34 @ -2, -2, -4\",\n",
    "    \"12, 31, 28 @ -1, -2, -1\",\n",
    "    \"20, 19, 15 @  1, -5, -3\",\n",
    "]"
   ]
  },
  {
   "cell_type": "code",
   "execution_count": 2,
   "metadata": {},
   "outputs": [],
   "source": [
    "with open(\"input\") as f:\n",
    "    data = [line.strip() for line in f]"
   ]
  },
  {
   "cell_type": "code",
   "execution_count": 3,
   "metadata": {},
   "outputs": [],
   "source": [
    "def process_hailstone(line):\n",
    "    p, v = line.split(\" @ \")\n",
    "    p = [int(i) for i in p.split(\", \")]\n",
    "    v = [int(i) for i in v.split(\", \")]\n",
    "    return (tuple(p), tuple(v))"
   ]
  },
  {
   "cell_type": "code",
   "execution_count": 4,
   "metadata": {},
   "outputs": [],
   "source": [
    "hailstones = [process_hailstone(line) for line in data]"
   ]
  },
  {
   "cell_type": "code",
   "execution_count": 5,
   "metadata": {},
   "outputs": [],
   "source": [
    "from sympy import symbols, solve\n",
    "\n",
    "def find_intersection(a, b):\n",
    "    (x0, y0, z0), (dx0, dy0, dz0) = a\n",
    "    (x1, y1, z1), (dx1, dy1, dz1) = b\n",
    "\n",
    "    t1, t2 = symbols(\"t1 t2\")\n",
    "\n",
    "    eq1_x = x0 + dx0 * t1\n",
    "    eq1_y = y0 + dy0 * t1\n",
    "    eq2_x = x1 + dx1 * t2\n",
    "    eq2_y = y1 + dy1 * t2\n",
    "\n",
    "    eqs = [eq1_x - eq2_x, eq1_y - eq2_y]\n",
    "\n",
    "    solution = solve(eqs, (t1, t2))\n",
    "\n",
    "    intersection_x = eq1_x.subs(solution)\n",
    "    intersection_y = eq1_y.subs(solution)\n",
    "\n",
    "    t1_value = solution[t1]\n",
    "    t2_value = solution[t2]\n",
    "\n",
    "    if t1_value > 0 and t2_value > 0:\n",
    "        return (float(intersection_x), float(intersection_y))"
   ]
  },
  {
   "cell_type": "code",
   "execution_count": 6,
   "metadata": {},
   "outputs": [],
   "source": [
    "from itertools import combinations\n",
    "\n",
    "TEST_MIN = 200000000000000\n",
    "TEST_MAX = 400000000000000\n",
    "\n",
    "def count_crossovers_in_test_range():\n",
    "    for a, b in combinations(hailstones, r=2):\n",
    "        try:\n",
    "            x, y = find_intersection(a, b)\n",
    "        except TypeError:\n",
    "            continue\n",
    "\n",
    "        if TEST_MIN <= x <= TEST_MAX and TEST_MIN <= y <= TEST_MAX:\n",
    "            yield 1"
   ]
  },
  {
   "cell_type": "code",
   "execution_count": 7,
   "metadata": {},
   "outputs": [
    {
     "name": "stdout",
     "output_type": "stream",
     "text": [
      "Part 1:\n",
      "13754\n"
     ]
    }
   ],
   "source": [
    "print(\"Part 1:\")\n",
    "print(sum(count_crossovers_in_test_range()))"
   ]
  },
  {
   "cell_type": "code",
   "execution_count": 8,
   "metadata": {},
   "outputs": [],
   "source": [
    "from sympy import Symbol\n",
    "\n",
    "def find_rock_throwing_place():\n",
    "    x, y, z, dx, dy, dz = symbols(\"x y z dx dy dz\")\n",
    "\n",
    "    constraints = []\n",
    "    for i, ((x0, y0, z0), (dx0, dy0, dz0)) in enumerate(hailstones[:4]):\n",
    "        t = Symbol(f\"t_{i}\")\n",
    "        cx = x + t * dx - x0 - t * dx0\n",
    "        cy = y + t * dy - y0 - t * dy0\n",
    "        cz = z + t * dz - z0 - t * dz0\n",
    "        constraints.extend([cx, cy, cz])\n",
    "\n",
    "    solution = solve(constraints)[0]\n",
    "    return sum(solution[k] for k in (x, y, z))"
   ]
  },
  {
   "cell_type": "code",
   "execution_count": 9,
   "metadata": {},
   "outputs": [
    {
     "name": "stdout",
     "output_type": "stream",
     "text": [
      "Part 2:\n",
      "711031616315001\n"
     ]
    }
   ],
   "source": [
    "print(\"Part 2:\")\n",
    "print(find_rock_throwing_place())"
   ]
  }
 ],
 "metadata": {
  "kernelspec": {
   "display_name": "aoc",
   "language": "python",
   "name": "python3"
  },
  "language_info": {
   "codemirror_mode": {
    "name": "ipython",
    "version": 3
   },
   "file_extension": ".py",
   "mimetype": "text/x-python",
   "name": "python",
   "nbconvert_exporter": "python",
   "pygments_lexer": "ipython3",
   "version": "3.11.6"
  }
 },
 "nbformat": 4,
 "nbformat_minor": 2
}
