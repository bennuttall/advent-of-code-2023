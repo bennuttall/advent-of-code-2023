{
 "cells": [
  {
   "cell_type": "code",
   "execution_count": 54,
   "metadata": {},
   "outputs": [],
   "source": [
    "data = [\n",
    "    \".....\",\n",
    "    \".S-7.\",\n",
    "    \".|.|.\",\n",
    "    \".L-J.\",\n",
    "    \".....\",\n",
    "]\n",
    "\n",
    "data = [\n",
    "    \"-L|F7\",\n",
    "    \"7S-7|\",\n",
    "    \"L|7||\",\n",
    "    \"-L-J|\",\n",
    "    \"L|-JF\",\n",
    "]"
   ]
  },
  {
   "cell_type": "code",
   "execution_count": 59,
   "metadata": {},
   "outputs": [],
   "source": [
    "with open(\"input\") as f:\n",
    "    data = [line.strip() for line in f]"
   ]
  },
  {
   "cell_type": "code",
   "execution_count": 60,
   "metadata": {},
   "outputs": [],
   "source": [
    "def never_eat_shredded_wheat(x, y):\n",
    "    n = (x, y - 1)\n",
    "    e = (x + 1, y)\n",
    "    s = (x, y + 1)\n",
    "    w = (x - 1, y)\n",
    "    return (n, e, s, w)\n",
    "\n",
    "def identify_pipe_type(c, x, y):\n",
    "    n, e, s, w = never_eat_shredded_wheat(x, y)\n",
    "    return {\n",
    "       \"|\": {n, s},\n",
    "       \"-\": {e, w},\n",
    "       \"L\": {n, e},\n",
    "       \"J\": {n, w},\n",
    "       \"7\": {s, w},\n",
    "       \"F\": {s, e},\n",
    "       \".\": set(),\n",
    "       \"S\": \"S\", \n",
    "    }[c]\n",
    "\n",
    "def find_start_pos(map):\n",
    "    for (x, y), c in map.items():\n",
    "        if c == \"S\":\n",
    "            return (x, y)\n",
    "\n",
    "def identify_start_pos_pipe_type(x, y, map):\n",
    "    return {\n",
    "        pos\n",
    "        for pos in never_eat_shredded_wheat(x, y)\n",
    "        if (x, y) in map[pos]\n",
    "    }\n",
    "\n",
    "def make_map():\n",
    "    map = {\n",
    "        (x, y): identify_pipe_type(c, x, y)\n",
    "        for y, line in enumerate(data)\n",
    "        for x, c in enumerate(line)\n",
    "    }\n",
    "    x, y = find_start_pos(map)\n",
    "    map[(x, y)] = identify_start_pos_pipe_type(x, y, map)\n",
    "    return remove_dead_pipes(map), (x, y)\n",
    "\n",
    "def remove_dead_pipes(map):\n",
    "    map = {\n",
    "        (x, y): {c for c in connections if (x, y) in map.get(c, set())}\n",
    "        for (x, y), connections in map.items()\n",
    "    }\n",
    "    return {\n",
    "        (x, y): connections\n",
    "        for (x, y), connections in map.items()\n",
    "        if connections\n",
    "    }"
   ]
  },
  {
   "cell_type": "code",
   "execution_count": 65,
   "metadata": {},
   "outputs": [],
   "source": [
    "def step(pos, prev_pos):\n",
    "    for next_pos in map[pos]:\n",
    "        if next_pos != prev_pos:\n",
    "            return next_pos\n",
    "        \n",
    "def count_steps(start_pos, next_pos):\n",
    "    pos = next_pos\n",
    "    prev_pos = start_pos\n",
    "    steps = 1\n",
    "    d = {next_pos: 1}\n",
    "    while pos != start_pos:\n",
    "        next_pos = step(pos, prev_pos)\n",
    "        prev_pos = pos\n",
    "        pos = next_pos\n",
    "        steps += 1\n",
    "        d[pos] = steps\n",
    "    d.pop(pos)\n",
    "    return d\n",
    "\n",
    "def get_as_far_away_as_possible(map, start):\n",
    "    a, b = map[start]\n",
    "    a_steps = count_steps(start, a)\n",
    "    b_steps = count_steps(start, b)\n",
    "    return max({\n",
    "        min([a_steps[pos], b_steps[pos]])\n",
    "        for pos in a_steps\n",
    "    })"
   ]
  },
  {
   "cell_type": "code",
   "execution_count": 66,
   "metadata": {},
   "outputs": [
    {
     "name": "stdout",
     "output_type": "stream",
     "text": [
      "Part 1:\n",
      "7030\n"
     ]
    }
   ],
   "source": [
    "map, start = make_map()\n",
    "print(\"Part 1:\")\n",
    "print(get_as_far_away_as_possible(map, start))"
   ]
  },
  {
   "cell_type": "code",
   "execution_count": null,
   "metadata": {},
   "outputs": [],
   "source": []
  }
 ],
 "metadata": {
  "kernelspec": {
   "display_name": "aoc",
   "language": "python",
   "name": "python3"
  },
  "language_info": {
   "codemirror_mode": {
    "name": "ipython",
    "version": 3
   },
   "file_extension": ".py",
   "mimetype": "text/x-python",
   "name": "python",
   "nbconvert_exporter": "python",
   "pygments_lexer": "ipython3",
   "version": "3.11.7"
  }
 },
 "nbformat": 4,
 "nbformat_minor": 2
}
