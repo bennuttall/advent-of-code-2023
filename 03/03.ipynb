{
 "cells": [
  {
   "cell_type": "code",
   "execution_count": 33,
   "id": "8b6ae7e0-c43f-4bf2-ac9d-0befb0b13a97",
   "metadata": {},
   "outputs": [],
   "source": [
    "with open('input') as f:\n",
    "    data = [line for line in f]"
   ]
  },
  {
   "cell_type": "code",
   "execution_count": 34,
   "id": "a8f0cfc3-1d82-4619-8d44-c537e66819ea",
   "metadata": {},
   "outputs": [],
   "source": [
    "def find_numbers(line: str) -> list[(int, int)]:\n",
    "    prev = '.'\n",
    "    for i, c in enumerate(line):\n",
    "        if c.isnumeric() and not prev.isnumeric():\n",
    "            n = find_number(line[i:])\n",
    "            yield (i, n)\n",
    "        prev = c\n",
    "\n",
    "def find_number(s: str) -> int:\n",
    "    n = ''\n",
    "    for i, c in enumerate(s):\n",
    "        if c.isnumeric():\n",
    "           n += c\n",
    "        else:\n",
    "            return int(n)\n",
    "    return int(n)\n",
    "\n",
    "def find_symbols() -> list[(int, int)]:\n",
    "    for y, line in enumerate(data):\n",
    "        for x, c in enumerate(line):\n",
    "            if not c.isnumeric() and c not in '.\\n':\n",
    "                yield (x, y)\n",
    "\n",
    "symbols = set(find_symbols())"
   ]
  },
  {
   "cell_type": "code",
   "execution_count": 35,
   "id": "b4147877-d002-4c13-a27e-99267721ef98",
   "metadata": {},
   "outputs": [],
   "source": [
    "def get_neighbours(x: int, y: int) -> list[(int, int)]:\n",
    "    return {\n",
    "        (x - 1, y + 1), (x + 0, y + 1), (x + 1, y + 1),\n",
    "        (x - 1, y + 0), (x + 0, y + 0), (x + 1, y + 0),\n",
    "        (x - 1, y - 1), (x + 0, y - 1), (x + 1, y - 1),\n",
    "    }\n",
    "\n",
    "def get_part_number(x: int, y: int, n: int) -> int:\n",
    "    s = set()\n",
    "    for i in range(len(str(n))):\n",
    "        for pos in get_neighbours(x + i, y):\n",
    "            if pos in symbols:\n",
    "                s.add(pos)\n",
    "    return len(s)\n",
    "\n",
    "def get_part_numbers() -> list[int]:\n",
    "    for y, line in enumerate(data):\n",
    "        for x, n in find_numbers(line):\n",
    "            m = get_part_number(x, y, n)\n",
    "            yield m * n"
   ]
  },
  {
   "cell_type": "code",
   "execution_count": 36,
   "id": "0d92356b-50bd-4efd-b6ff-9d1bc924eb65",
   "metadata": {},
   "outputs": [
    {
     "name": "stdout",
     "output_type": "stream",
     "text": [
      "Part 1:\n",
      "498559\n"
     ]
    }
   ],
   "source": [
    "print(\"Part 1:\")\n",
    "print(sum(get_part_numbers()))"
   ]
  },
  {
   "cell_type": "code",
   "execution_count": 37,
   "id": "b3191b4b-5287-40a1-a589-b9d9db07daa1",
   "metadata": {},
   "outputs": [],
   "source": [
    "def find_nums(line: str) -> list[(int, int)]:\n",
    "    prev = '.'\n",
    "    for i, c in enumerate(line):\n",
    "        if c.isnumeric() and not prev.isnumeric():\n",
    "            n = find_number(line[i:])\n",
    "            yield i, n\n",
    "        prev = c\n",
    "\n",
    "nums = {}\n",
    "id = 0\n",
    "for y, line in enumerate(data):\n",
    "    for x, n in find_nums(line):\n",
    "        for i in range(len(str(n))):\n",
    "            nums[(x + i, y)] = (n, id)\n",
    "        id += 1\n",
    "\n",
    "def find_gears():\n",
    "    for x, y in symbols:\n",
    "        neighbouring_part_ids = set()\n",
    "        neighbouring_part_nums = []\n",
    "        symbol = data[y][x]\n",
    "        if symbol == '*':\n",
    "            for pos in get_neighbours(x, y):\n",
    "                if pos in nums:\n",
    "                    n, id = nums[pos]\n",
    "                    len_before = len(neighbouring_part_ids)\n",
    "                    neighbouring_part_ids.add(id)\n",
    "                    if len(neighbouring_part_ids) > len_before:\n",
    "                        neighbouring_part_nums.append(n)\n",
    "            if len(neighbouring_part_ids) == 2:\n",
    "                yield neighbouring_part_nums[0] * neighbouring_part_nums[1]"
   ]
  },
  {
   "cell_type": "code",
   "execution_count": 38,
   "id": "4c4037db-173e-4cca-ac2c-203d4d4f8157",
   "metadata": {},
   "outputs": [
    {
     "name": "stdout",
     "output_type": "stream",
     "text": [
      "Part 2:\n",
      "72246648\n"
     ]
    }
   ],
   "source": [
    "print(\"Part 2:\")\n",
    "print(sum(find_gears()))"
   ]
  }
 ],
 "metadata": {
  "kernelspec": {
   "display_name": "Python 3 (ipykernel)",
   "language": "python",
   "name": "python3"
  },
  "language_info": {
   "codemirror_mode": {
    "name": "ipython",
    "version": 3
   },
   "file_extension": ".py",
   "mimetype": "text/x-python",
   "name": "python",
   "nbconvert_exporter": "python",
   "pygments_lexer": "ipython3",
   "version": "3.11.6"
  }
 },
 "nbformat": 4,
 "nbformat_minor": 5
}
