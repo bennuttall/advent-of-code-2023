{
 "cells": [
  {
   "cell_type": "code",
   "execution_count": 1,
   "metadata": {},
   "outputs": [],
   "source": [
    "with open('input') as f:\n",
    "    data = [line.strip() for line in f]"
   ]
  },
  {
   "cell_type": "code",
   "execution_count": 2,
   "metadata": {},
   "outputs": [],
   "source": [
    "def process_line(line):\n",
    "    card_num, line = line.split(': ')\n",
    "    n = int(card_num.split()[-1])\n",
    "    winning, have = line.split(' | ')\n",
    "    winning_numbers = {int(n.strip()) for n in winning.split(' ') if n}\n",
    "    numbers = {int(n.strip()) for n in have.split(' ') if n}\n",
    "    return (n, winning_numbers, numbers)\n",
    "\n",
    "cards = {\n",
    "    n: (winning_numbers, numbers)\n",
    "    for (n, winning_numbers, numbers) in [process_line(line) for line in data]\n",
    "}"
   ]
  },
  {
   "cell_type": "code",
   "execution_count": 3,
   "metadata": {},
   "outputs": [],
   "source": [
    "def process_card(winning_numbers, numbers):\n",
    "    matching_numbers = winning_numbers & numbers\n",
    "    if len(matching_numbers):\n",
    "        return 2 ** (len(matching_numbers) - 1)\n",
    "    return 0"
   ]
  },
  {
   "cell_type": "code",
   "execution_count": 4,
   "metadata": {},
   "outputs": [
    {
     "name": "stdout",
     "output_type": "stream",
     "text": [
      "Part 1:\n",
      "22897\n"
     ]
    }
   ],
   "source": [
    "print(\"Part 1:\")\n",
    "print(sum([process_card(winning_numbers, numbers) for (winning_numbers, numbers) in cards.values()]))"
   ]
  },
  {
   "cell_type": "code",
   "execution_count": 5,
   "metadata": {},
   "outputs": [],
   "source": [
    "def process_card_after_reading_the_rules(card_num):\n",
    "    winning_numbers, numbers = cards[card_num]\n",
    "    matching_numbers = winning_numbers & numbers\n",
    "    return len(matching_numbers)\n",
    "\n",
    "def process_recursive_wins(card_num):\n",
    "    num_cards_won = process_card_after_reading_the_rules(card_num)\n",
    "    extra_cards = [card_num + i + 1 for i in range(num_cards_won)]\n",
    "    for card in extra_cards:\n",
    "        yield 1\n",
    "        yield from process_recursive_wins(card)"
   ]
  },
  {
   "cell_type": "code",
   "execution_count": 6,
   "metadata": {},
   "outputs": [],
   "source": [
    "def count_recursive_cards():\n",
    "    s = len(data)\n",
    "    for n in cards:\n",
    "        for v in process_recursive_wins(n):\n",
    "            s += v\n",
    "    return s"
   ]
  },
  {
   "cell_type": "code",
   "execution_count": 7,
   "metadata": {},
   "outputs": [
    {
     "name": "stdout",
     "output_type": "stream",
     "text": [
      "Part 2:\n",
      "5095824\n"
     ]
    }
   ],
   "source": [
    "print(\"Part 2:\")\n",
    "print(count_recursive_cards())"
   ]
  }
 ],
 "metadata": {
  "kernelspec": {
   "display_name": "aoc",
   "language": "python",
   "name": "python3"
  },
  "language_info": {
   "codemirror_mode": {
    "name": "ipython",
    "version": 3
   },
   "file_extension": ".py",
   "mimetype": "text/x-python",
   "name": "python",
   "nbconvert_exporter": "python",
   "pygments_lexer": "ipython3",
   "version": "3.11.6"
  }
 },
 "nbformat": 4,
 "nbformat_minor": 2
}
