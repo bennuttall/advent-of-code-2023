{
 "cells": [
  {
   "cell_type": "code",
   "execution_count": 1,
   "metadata": {},
   "outputs": [],
   "source": [
    "data = [\n",
    "    \"seeds: 79 14 55 13\",\n",
    "    \"\",\n",
    "    \"seed-to-soil map:\",\n",
    "    \"50 98 2\",\n",
    "    \"52 50 48\",\n",
    "    \"\",\n",
    "    \"soil-to-fertilizer map:\",\n",
    "    \"0 15 37\",\n",
    "    \"37 52 2\",\n",
    "    \"39 0 15\",\n",
    "    \"\",\n",
    "    \"fertilizer-to-water map:\",\n",
    "    \"49 53 8\",\n",
    "    \"0 11 42\",\n",
    "    \"42 0 7\",\n",
    "    \"57 7 4\",\n",
    "    \"\",\n",
    "    \"water-to-light map:\",\n",
    "    \"88 18 7\",\n",
    "    \"18 25 70\",\n",
    "    \"\",\n",
    "    \"light-to-temperature map:\",\n",
    "    \"45 77 23\",\n",
    "    \"81 45 19\",\n",
    "    \"68 64 13\",\n",
    "    \"\",\n",
    "    \"temperature-to-humidity map:\",\n",
    "    \"0 69 1\",\n",
    "    \"1 0 69\",\n",
    "    \"\",\n",
    "    \"humidity-to-location map:\",\n",
    "    \"60 56 37\",\n",
    "    \"56 93 4\",\n",
    "]"
   ]
  },
  {
   "cell_type": "code",
   "execution_count": 16,
   "metadata": {},
   "outputs": [],
   "source": [
    "with open('input') as f:\n",
    "    data = [line.strip() for line in f]"
   ]
  },
  {
   "cell_type": "code",
   "execution_count": 17,
   "metadata": {},
   "outputs": [],
   "source": [
    "from collections import defaultdict\n",
    "\n",
    "def process_input():\n",
    "    values = defaultdict(list)\n",
    "    for line in data:\n",
    "        if line == \"\":\n",
    "            continue\n",
    "        elif line.startswith(\"seeds\"):\n",
    "            seeds = [int(n) for n in line.split(': ')[-1].split()]\n",
    "        elif line.startswith(\"seed-to-soil\"):\n",
    "            key = \"seed_to_soil_map\"\n",
    "        elif line.startswith(\"soil-to-fertilizer\"):\n",
    "            key = \"soil_to_fertilizer_map\"\n",
    "        elif line.startswith(\"fertilizer-to-water\"):\n",
    "            key = \"fertilizer_to_water_map\"\n",
    "        elif line.startswith(\"water-to-light\"):\n",
    "            key = \"water_to_light_map\"\n",
    "        elif line.startswith(\"light-to-temperature\"):\n",
    "            key = \"light_to_temperature_map\"\n",
    "        elif line.startswith(\"temperature-to-humidity\"):\n",
    "            key = \"temperature_to_humidity_map\"\n",
    "        elif line.startswith(\"humidity-to-location\"):\n",
    "            key = \"humidity_to_location_map\"\n",
    "        else:\n",
    "            values[key].append(tuple(int(n) for n in line.split()))\n",
    "\n",
    "    return (\n",
    "        seeds,\n",
    "        tuple(values[\"seed_to_soil_map\"]),\n",
    "        tuple(values[\"soil_to_fertilizer_map\"]),\n",
    "        tuple(values[\"fertilizer_to_water_map\"]),\n",
    "        tuple(values[\"water_to_light_map\"]),\n",
    "        tuple(values[\"light_to_temperature_map\"]),\n",
    "        tuple(values[\"temperature_to_humidity_map\"]),\n",
    "        tuple(values[\"humidity_to_location_map\"]),\n",
    "    )\n",
    "\n",
    "(\n",
    "    seeds,\n",
    "    seed_to_soil_map,\n",
    "    soil_to_fertilizer_map,\n",
    "    fertilizer_to_water_map,\n",
    "    water_to_light_map,\n",
    "    light_to_temperature_map,\n",
    "    temperature_to_humidity_map,\n",
    "    humidity_to_location_map\n",
    ") = process_input()"
   ]
  },
  {
   "cell_type": "code",
   "execution_count": 18,
   "metadata": {},
   "outputs": [],
   "source": [
    "from functools import lru_cache\n",
    "\n",
    "@lru_cache(maxsize=None)\n",
    "def resolve_mapping(value, map):\n",
    "    for dest, src, i in map:\n",
    "        if value in range(src, src + i):\n",
    "            delta = value - src\n",
    "            return dest + delta\n",
    "    return value"
   ]
  },
  {
   "cell_type": "code",
   "execution_count": 19,
   "metadata": {},
   "outputs": [],
   "source": [
    "def seed_to_location(seed):\n",
    "    soil = resolve_mapping(seed, seed_to_soil_map)\n",
    "    fertilizer = resolve_mapping(soil, soil_to_fertilizer_map)\n",
    "    water = resolve_mapping(fertilizer, fertilizer_to_water_map)\n",
    "    light = resolve_mapping(water, water_to_light_map)\n",
    "    temperature = resolve_mapping(light, light_to_temperature_map)\n",
    "    humidity = resolve_mapping(temperature, temperature_to_humidity_map)\n",
    "    return resolve_mapping(humidity, humidity_to_location_map)"
   ]
  },
  {
   "cell_type": "code",
   "execution_count": 20,
   "metadata": {},
   "outputs": [
    {
     "name": "stdout",
     "output_type": "stream",
     "text": [
      "Part 1:\n",
      "836040384\n"
     ]
    }
   ],
   "source": [
    "print(\"Part 1:\")\n",
    "print(min(seed_to_location(seed) for seed in seeds))"
   ]
  },
  {
   "cell_type": "code",
   "execution_count": 21,
   "metadata": {},
   "outputs": [],
   "source": [
    "from itertools import zip_longest\n",
    "\n",
    "def grouper(iterable, n):\n",
    "    args = [iter(iterable)] * n\n",
    "    return zip_longest(*args)"
   ]
  },
  {
   "cell_type": "code",
   "execution_count": 24,
   "metadata": {},
   "outputs": [
    {
     "name": "stdout",
     "output_type": "stream",
     "text": [
      "1044452533 40389941\n",
      "3710737290 407166728\n",
      "1552449232 639689359\n",
      "3327654041 26912583\n",
      "3440484265 219136668\n",
      "1126550158 296212400\n",
      "2332393052 229950158\n",
      "200575068 532702401\n",
      "4163696272 44707860\n",
      "3067657312 45353528\n"
     ]
    }
   ],
   "source": [
    "for start_seed, i in grouper(seeds, 2):\n",
    "    "
   ]
  },
  {
   "cell_type": "code",
   "execution_count": 25,
   "metadata": {},
   "outputs": [
    {
     "data": {
      "text/plain": [
       "((1953514507, 1808056938, 198190267),\n",
       " (3721110896, 2006247205, 109062451),\n",
       " (1046714200, 3920284337, 339096560),\n",
       " (965003502, 2389762347, 16609477),\n",
       " (1946017538, 563731936, 3971811),\n",
       " (2151704774, 1532707249, 120594830),\n",
       " (1385810760, 3525158, 560206778),\n",
       " (1949989349, 0, 3525158),\n",
       " (3830173347, 2115309656, 274452691),\n",
       " (0, 567703747, 902873308),\n",
       " (2272299604, 2471473045, 1448811292),\n",
       " (902873308, 1470577055, 62130194),\n",
       " (981612979, 2406371824, 65101221),\n",
       " (4104626038, 1653302079, 154754859))"
      ]
     },
     "execution_count": 25,
     "metadata": {},
     "output_type": "execute_result"
    }
   ],
   "source": [
    "seed_to_soil_map"
   ]
  },
  {
   "cell_type": "code",
   "execution_count": null,
   "metadata": {},
   "outputs": [],
   "source": []
  }
 ],
 "metadata": {
  "kernelspec": {
   "display_name": "aoc",
   "language": "python",
   "name": "python3"
  },
  "language_info": {
   "codemirror_mode": {
    "name": "ipython",
    "version": 3
   },
   "file_extension": ".py",
   "mimetype": "text/x-python",
   "name": "python",
   "nbconvert_exporter": "python",
   "pygments_lexer": "ipython3",
   "version": "3.11.6"
  }
 },
 "nbformat": 4,
 "nbformat_minor": 2
}
