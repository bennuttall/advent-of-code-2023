{
 "cells": [
  {
   "cell_type": "code",
   "execution_count": 1,
   "id": "a637e364-3ecd-4554-b2da-3108be0a02c3",
   "metadata": {},
   "outputs": [],
   "source": [
    "with open('input') as f:\n",
    "    data = [line.rstrip(\"\\n\") for line in f]"
   ]
  },
  {
   "cell_type": "code",
   "execution_count": 2,
   "id": "38d17153-ac1f-446c-8ce4-2f1edc8616d0",
   "metadata": {},
   "outputs": [],
   "source": [
    "numerics = []\n",
    "for d in data:\n",
    "    s = ''\n",
    "    for c in d:\n",
    "        if c.isnumeric():\n",
    "            s += c\n",
    "    numerics.append(s)"
   ]
  },
  {
   "cell_type": "code",
   "execution_count": 3,
   "id": "cd293889-06cd-4c88-8578-03bbb23f4a9f",
   "metadata": {},
   "outputs": [
    {
     "name": "stdout",
     "output_type": "stream",
     "text": [
      "Part 1:\n",
      "54239\n"
     ]
    }
   ],
   "source": [
    "print(\"Part 1:\")\n",
    "print(sum(int(n[0] + n[-1]) for n in numerics))"
   ]
  },
  {
   "cell_type": "code",
   "execution_count": 4,
   "id": "3d2b8747-0e1d-4c03-897d-f14877bad765",
   "metadata": {},
   "outputs": [],
   "source": [
    "digits = {\n",
    "    'one': '1',\n",
    "    'two': '2',\n",
    "    'three': '3',\n",
    "    'four': '4',\n",
    "    'five': '5',\n",
    "    'six': '6',\n",
    "    'seven': '7',\n",
    "    'eight': '8',\n",
    "    'nine': '9',\n",
    "}\n",
    "\n",
    "def get_first_digit(s):\n",
    "    found_digits = [c for c in s if c.isnumeric()]\n",
    "    if found_digits:\n",
    "        first_digit = found_digits[0]\n",
    "        str_before = s[:s.index(first_digit)]\n",
    "    else:\n",
    "        str_before = s\n",
    "    for i in range(len(str_before)):\n",
    "        s = str_before[:i+1]\n",
    "        for d in digits:\n",
    "            if d in s:\n",
    "                return digits[d]\n",
    "    return first_digit\n",
    "\n",
    "def get_last_digit(s):\n",
    "    found_digits = {i: c for i, c in enumerate(s) if c.isnumeric()}\n",
    "    if found_digits:\n",
    "        i = max(found_digits)\n",
    "        last_digit = found_digits[i]\n",
    "        str_after = s[i:]\n",
    "    else:\n",
    "        str_after = s\n",
    "    for i in range(len(str_after)):\n",
    "        s = str_after[-i-1:]\n",
    "        for d in digits:\n",
    "            if d in s:\n",
    "                return digits[d]\n",
    "    return last_digit"
   ]
  },
  {
   "cell_type": "code",
   "execution_count": 5,
   "id": "996eb722-5883-40ff-a9c7-ae4d159565fa",
   "metadata": {},
   "outputs": [
    {
     "name": "stdout",
     "output_type": "stream",
     "text": [
      "Part 2:\n",
      "55343\n"
     ]
    }
   ],
   "source": [
    "print(\"Part 2:\")\n",
    "print(sum([int(get_first_digit(d) + get_last_digit(d)) for d in data]))"
   ]
  }
 ],
 "metadata": {
  "kernelspec": {
   "display_name": "Python 3 (ipykernel)",
   "language": "python",
   "name": "python3"
  },
  "language_info": {
   "codemirror_mode": {
    "name": "ipython",
    "version": 3
   },
   "file_extension": ".py",
   "mimetype": "text/x-python",
   "name": "python",
   "nbconvert_exporter": "python",
   "pygments_lexer": "ipython3",
   "version": "3.9.6"
  }
 },
 "nbformat": 4,
 "nbformat_minor": 5
}
