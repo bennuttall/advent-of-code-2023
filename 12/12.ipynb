{
 "cells": [
  {
   "cell_type": "code",
   "execution_count": 89,
   "metadata": {},
   "outputs": [],
   "source": [
    "data = [\n",
    "    \"???.### 1,1,3\",\n",
    "    \".??..??...?##. 1,1,3\",\n",
    "    \"?#?#?#?#?#?#?#? 1,3,1,6\",\n",
    "    \"????.#...#... 4,1,1\",\n",
    "    \"????.######..#####. 1,6,5\",\n",
    "    \"?###???????? 3,2,1\",\n",
    "]"
   ]
  },
  {
   "cell_type": "code",
   "execution_count": 90,
   "metadata": {},
   "outputs": [],
   "source": [
    "def process_line(line):\n",
    "    springs, nums = line.strip().split(\" \")\n",
    "    return (springs, tuple(int(n) for n in nums.split(\",\")))"
   ]
  },
  {
   "cell_type": "code",
   "execution_count": 91,
   "metadata": {},
   "outputs": [
    {
     "data": {
      "text/plain": [
       "('???.###????.###????.###????.###????.###',\n",
       " (1, 1, 3, 1, 1, 3, 1, 1, 3, 1, 1, 3, 1, 1, 3))"
      ]
     },
     "execution_count": 91,
     "metadata": {},
     "output_type": "execute_result"
    }
   ],
   "source": [
    "with open(\"input\") as f:\n",
    "    data = [process_line(line) for line in data]\n",
    "    unfolded_data = [(\"?\".join([springs] * 5), nums * 5) for springs, nums in data]\n",
    "unfolded_data[0]"
   ]
  },
  {
   "cell_type": "code",
   "execution_count": 81,
   "metadata": {},
   "outputs": [],
   "source": [
    "from itertools import combinations\n",
    "\n",
    "def get_spring_combos(line: str, nums: tuple[int]):\n",
    "    unknown = {i for i, c in enumerate(line) if c == \"?\"}\n",
    "    num_known = line.count(\"#\")\n",
    "    replacements = sum(nums) - num_known\n",
    "    for combo in combinations(unknown, r=replacements):\n",
    "        s = list(line)\n",
    "        for i in combo:\n",
    "            s[i] = \"#\"\n",
    "        yield \"\".join(s).replace(\"?\", \".\")\n",
    "\n",
    "def validate_springs_combo(combo: str, nums: tuple[int]):\n",
    "    groups = tuple(len(group) for group in combo.split(\".\") if group)\n",
    "    return groups == nums\n",
    "\n",
    "def count_spring_combos(line: str, nums: tuple[int]):\n",
    "    if line.count(\"?\") == 0:\n",
    "        yield 1\n",
    "        return\n",
    "    for combo in get_spring_combos(line, nums):\n",
    "        if validate_springs_combo(combo, nums):\n",
    "            yield 1"
   ]
  },
  {
   "cell_type": "code",
   "execution_count": 96,
   "metadata": {},
   "outputs": [
    {
     "name": "stdout",
     "output_type": "stream",
     "text": [
      "Part 1:\n",
      "21\n"
     ]
    }
   ],
   "source": [
    "print(\"Part 1:\")\n",
    "print(sum(sum(count_spring_combos(line, nums)) for line, nums in data))"
   ]
  },
  {
   "cell_type": "code",
   "execution_count": null,
   "metadata": {},
   "outputs": [],
   "source": []
  }
 ],
 "metadata": {
  "kernelspec": {
   "display_name": "aoc",
   "language": "python",
   "name": "python3"
  },
  "language_info": {
   "codemirror_mode": {
    "name": "ipython",
    "version": 3
   },
   "file_extension": ".py",
   "mimetype": "text/x-python",
   "name": "python",
   "nbconvert_exporter": "python",
   "pygments_lexer": "ipython3",
   "version": "3.11.6"
  }
 },
 "nbformat": 4,
 "nbformat_minor": 2
}
