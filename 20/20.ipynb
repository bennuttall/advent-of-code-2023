{
 "cells": [
  {
   "cell_type": "code",
   "execution_count": 1,
   "metadata": {},
   "outputs": [],
   "source": [
    "with open(\"input\") as f:\n",
    "    data = [line.strip() for line in f]"
   ]
  },
  {
   "cell_type": "code",
   "execution_count": 2,
   "metadata": {},
   "outputs": [],
   "source": [
    "def process_messages():\n",
    "    while modules_to_send:\n",
    "        module = modules_to_send.pop(0)\n",
    "        module.send()\n",
    "\n",
    "class Module:\n",
    "    def __repr__(self):\n",
    "        return f\"<{self.__class__.__name__} id={self.id} outputs={', '.join(o.id for o in self.outputs)}>\"\n",
    "\n",
    "class BroadcastModule(Module):\n",
    "    def __init__(self):\n",
    "        self.id = \"broadcaster\"\n",
    "        self.value = False\n",
    "        self.outputs = []\n",
    "\n",
    "    def receive(self, v: bool, *, sender: str):\n",
    "        global low_pulses_sent\n",
    "        global high_pulses_sent\n",
    "        high_pulses_sent += 1 if v else 0\n",
    "        low_pulses_sent += 0 if v else 1\n",
    "        self.value = v\n",
    "        modules_to_send.append(self)\n",
    "\n",
    "    def send(self):\n",
    "        for module in self.outputs:\n",
    "            module.receive(self.value, sender=self.id)\n",
    "\n",
    "class FlipFlopModule(Module):\n",
    "    def __init__(self, id: str):\n",
    "        self.id = id\n",
    "        self.value = False\n",
    "        self.outputs = []\n",
    "\n",
    "    def receive(self, v: bool, *, sender: str):\n",
    "        global low_pulses_sent\n",
    "        global high_pulses_sent\n",
    "        high_pulses_sent += 1 if v else 0\n",
    "        low_pulses_sent += 0 if v else 1\n",
    "        if not v:\n",
    "            self.value = not self.value\n",
    "            modules_to_send.append(self)\n",
    "\n",
    "    def send(self):\n",
    "        for module in self.outputs:\n",
    "            module.receive(self.value, sender=self.id)\n",
    "\n",
    "class ConjunctionModule(Module):\n",
    "    def __init__(self, id: str, *, watched: bool = False):\n",
    "        self.id = id\n",
    "        self.value = False\n",
    "        self.outputs = []\n",
    "        self.inputs = {}\n",
    "        self.watched = watched\n",
    "\n",
    "    def receive(self, v: bool, *, sender: str):\n",
    "        global low_pulses_sent\n",
    "        global high_pulses_sent\n",
    "        high_pulses_sent += 1 if v else 0\n",
    "        low_pulses_sent += 0 if v else 1\n",
    "        self.inputs[sender] = v\n",
    "        modules_to_send.append(self)\n",
    "        if watching and self.watched and not v and i > 0:\n",
    "            self.watched = False\n",
    "            print(self.id, i)\n",
    "\n",
    "    def send(self):\n",
    "        v = not all(self.inputs.values())\n",
    "        for module in self.outputs:\n",
    "            module.receive(v, sender=self.id)\n",
    "\n",
    "class OutputModule(Module):\n",
    "    def __init__(self, id: str):\n",
    "        self.id = id\n",
    "        self.value = False\n",
    "        self.outputs = []\n",
    "\n",
    "    def receive(self, v: bool, *, sender: str):\n",
    "        global low_pulses_sent\n",
    "        global high_pulses_sent\n",
    "        high_pulses_sent += 1 if v else 0\n",
    "        low_pulses_sent += 0 if v else 1\n",
    "        self.value = v"
   ]
  },
  {
   "cell_type": "code",
   "execution_count": 3,
   "metadata": {},
   "outputs": [],
   "source": [
    "def get_id(line):\n",
    "    return \"broadcaster\" if line.startswith(\"broadcaster\") else line[1:].split(\" \")[0]\n",
    "\n",
    "def make_modules() -> dict[str, Module]:\n",
    "    modules = {}\n",
    "    for line in data:\n",
    "        id = get_id(line)\n",
    "        if line.startswith(\"broadcaster\"):\n",
    "            modules[id] = BroadcastModule()\n",
    "        elif line.startswith(\"%\"):\n",
    "            modules[id] = FlipFlopModule(id)\n",
    "        elif line.startswith(\"&\"):\n",
    "            watched = id in {\"br\", \"rz\", \"lf\", \"fk\"}\n",
    "            modules[id] = ConjunctionModule(id, watched=watched)\n",
    "\n",
    "    for line in data:\n",
    "        id = get_id(line)\n",
    "        outputs = line.split(\"-> \")[-1].split(\", \")\n",
    "        for output in outputs:\n",
    "            if output not in modules:\n",
    "                modules[output] = OutputModule(output)\n",
    "            modules[id].outputs.append(modules[output])\n",
    "\n",
    "    for module in modules.values():\n",
    "        if type(module) is ConjunctionModule:\n",
    "            module.inputs = {id: False for id, m in modules.items() if module in m.outputs}\n",
    "\n",
    "    return modules\n",
    "\n",
    "def press_the_button(modules):\n",
    "    modules[\"broadcaster\"].receive(False, sender=\"button\")\n",
    "    process_messages()\n"
   ]
  },
  {
   "cell_type": "code",
   "execution_count": 4,
   "metadata": {},
   "outputs": [
    {
     "name": "stdout",
     "output_type": "stream",
     "text": [
      "Part 1:\n",
      "817896682\n"
     ]
    }
   ],
   "source": [
    "modules_to_send = []\n",
    "low_pulses_sent = 0\n",
    "high_pulses_sent = 0\n",
    "watching = False\n",
    "\n",
    "modules = make_modules()\n",
    "\n",
    "for i in range(1000):\n",
    "    out = press_the_button(modules)\n",
    "\n",
    "print(\"Part 1:\")\n",
    "print(low_pulses_sent * high_pulses_sent)"
   ]
  },
  {
   "cell_type": "code",
   "execution_count": 5,
   "metadata": {},
   "outputs": [
    {
     "data": {
      "text/plain": [
       "'output.svg'"
      ]
     },
     "execution_count": 5,
     "metadata": {},
     "output_type": "execute_result"
    }
   ],
   "source": [
    "from graphviz import Digraph\n",
    "\n",
    "dot = Digraph(format='svg')\n",
    "\n",
    "def module_name(module):\n",
    "    c = {\n",
    "        FlipFlopModule: \"%\",\n",
    "        ConjunctionModule: \"&\",\n",
    "    }.get(module.__class__, \"\")\n",
    "    return c + module.id\n",
    "\n",
    "nodes = {\n",
    "    module.id: dot.node(module_name(module))\n",
    "    for module in modules.values()\n",
    "}\n",
    "\n",
    "for module in modules.values():\n",
    "    for output in module.outputs:\n",
    "        dot.edge(module_name(module), module_name(output))\n",
    "dot.render(\"output\")"
   ]
  },
  {
   "cell_type": "code",
   "execution_count": 6,
   "metadata": {},
   "outputs": [
    {
     "name": "stdout",
     "output_type": "stream",
     "text": [
      "br 3877\n",
      "lf 3911\n",
      "rz 4057\n",
      "fk 4079\n"
     ]
    }
   ],
   "source": [
    "modules = make_modules()\n",
    "watching = True\n",
    "\n",
    "i = 0\n",
    "while any(getattr(module, \"watched\", False) for module in modules.values()):\n",
    "    i += 1\n",
    "    out = press_the_button(modules)\n"
   ]
  },
  {
   "cell_type": "code",
   "execution_count": 7,
   "metadata": {},
   "outputs": [
    {
     "name": "stdout",
     "output_type": "stream",
     "text": [
      "Part 2:\n",
      "250924073918341\n"
     ]
    }
   ],
   "source": [
    "import math\n",
    "\n",
    "print(\"Part 2:\")\n",
    "print(math.lcm(3877, 3911, 4057, 4079))"
   ]
  }
 ],
 "metadata": {
  "kernelspec": {
   "display_name": "aoc",
   "language": "python",
   "name": "python3"
  },
  "language_info": {
   "codemirror_mode": {
    "name": "ipython",
    "version": 3
   },
   "file_extension": ".py",
   "mimetype": "text/x-python",
   "name": "python",
   "nbconvert_exporter": "python",
   "pygments_lexer": "ipython3",
   "version": "3.11.7"
  }
 },
 "nbformat": 4,
 "nbformat_minor": 2
}
