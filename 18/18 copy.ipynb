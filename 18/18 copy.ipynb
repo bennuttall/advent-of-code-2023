{
 "cells": [
  {
   "cell_type": "code",
   "execution_count": 56,
   "metadata": {},
   "outputs": [],
   "source": [
    "data = [\n",
    "    \"R 6 (#70c710)\",\n",
    "    \"D 5 (#0dc571)\",\n",
    "    \"L 2 (#5713f0)\",\n",
    "    \"D 2 (#d2c081)\",\n",
    "    \"R 2 (#59c680)\",\n",
    "    \"D 2 (#411b91)\",\n",
    "    \"L 5 (#8ceee2)\",\n",
    "    \"U 2 (#caa173)\",\n",
    "    \"L 1 (#1b58a2)\",\n",
    "    \"U 2 (#caa171)\",\n",
    "    \"R 2 (#7807d2)\",\n",
    "    \"U 3 (#a77fa3)\",\n",
    "    \"L 2 (#015232)\",\n",
    "    \"U 2 (#7a21e3)\",\n",
    "]"
   ]
  },
  {
   "cell_type": "code",
   "execution_count": 5,
   "metadata": {},
   "outputs": [],
   "source": [
    "# with open(\"input\") as f:\n",
    "#     data = [line.strip() for line in f]"
   ]
  },
  {
   "cell_type": "code",
   "execution_count": 57,
   "metadata": {},
   "outputs": [],
   "source": [
    "def process_data():\n",
    "    for line in data:\n",
    "        d, n, c = line.split(\" \")\n",
    "        yield (d, int(n), c[2:8])\n",
    "\n",
    "instructions = list(process_data())"
   ]
  },
  {
   "cell_type": "code",
   "execution_count": 65,
   "metadata": {},
   "outputs": [],
   "source": [
    "def dig(pos, instruction, exterior_map):\n",
    "    d, n, c = instruction\n",
    "    dx, dy = {\n",
    "        \"U\": (0, -1),\n",
    "        \"D\": (0, 1),\n",
    "        \"L\": (-1, 0),\n",
    "        \"R\": (1, 0),\n",
    "    }[d]\n",
    "    for step in range(n + 1):\n",
    "        x, y = pos\n",
    "        pos = (x + dx, y + dy)\n",
    "        exterior_map.append(pos)\n",
    "\n",
    "    return pos\n",
    "\n",
    "def fill_exterior():\n",
    "    pos = (0, 0)\n",
    "    exterior_map = [pos]\n",
    "    for instruction in instructions:\n",
    "        pos = dig(pos, instruction, exterior_map)\n",
    "    return exterior_map + [(0, 0)]"
   ]
  },
  {
   "cell_type": "code",
   "execution_count": 66,
   "metadata": {},
   "outputs": [],
   "source": [
    "exterior_map = fill_exterior()"
   ]
  },
  {
   "cell_type": "code",
   "execution_count": 72,
   "metadata": {},
   "outputs": [
    {
     "data": {
      "text/plain": [
       "44"
      ]
     },
     "execution_count": 72,
     "metadata": {},
     "output_type": "execute_result"
    }
   ],
   "source": [
    "from shapely import Polygon, Point\n",
    "\n",
    "p = Polygon(exterior_map)\n",
    "\n",
    "s = 0\n",
    "for y in range(-20, 20):\n",
    "    for x in range(-20, 20):\n",
    "        if p.contains(Point((x, y))):\n",
    "            s += 1\n",
    "s"
   ]
  },
  {
   "cell_type": "code",
   "execution_count": 68,
   "metadata": {},
   "outputs": [
    {
     "data": {
      "text/plain": [
       "((0, 0), (0, 0))"
      ]
     },
     "execution_count": 68,
     "metadata": {},
     "output_type": "execute_result"
    }
   ],
   "source": [
    "exterior_map[0], exterior_map[-1]"
   ]
  },
  {
   "cell_type": "code",
   "execution_count": 48,
   "metadata": {},
   "outputs": [
    {
     "data": {
      "text/plain": [
       "4.0"
      ]
     },
     "execution_count": 48,
     "metadata": {},
     "output_type": "execute_result"
    }
   ],
   "source": []
  },
  {
   "cell_type": "code",
   "execution_count": null,
   "metadata": {},
   "outputs": [],
   "source": []
  }
 ],
 "metadata": {
  "kernelspec": {
   "display_name": "aoc",
   "language": "python",
   "name": "python3"
  },
  "language_info": {
   "codemirror_mode": {
    "name": "ipython",
    "version": 3
   },
   "file_extension": ".py",
   "mimetype": "text/x-python",
   "name": "python",
   "nbconvert_exporter": "python",
   "pygments_lexer": "ipython3",
   "version": "3.11.7"
  }
 },
 "nbformat": 4,
 "nbformat_minor": 2
}
