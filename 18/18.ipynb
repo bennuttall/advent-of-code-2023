{
 "cells": [
  {
   "cell_type": "code",
   "execution_count": 1,
   "metadata": {},
   "outputs": [],
   "source": [
    "data = [\n",
    "    \"R 6 (#70c710)\",\n",
    "    \"D 5 (#0dc571)\",\n",
    "    \"L 2 (#5713f0)\",\n",
    "    \"D 2 (#d2c081)\",\n",
    "    \"R 2 (#59c680)\",\n",
    "    \"D 2 (#411b91)\",\n",
    "    \"L 5 (#8ceee2)\",\n",
    "    \"U 2 (#caa173)\",\n",
    "    \"L 1 (#1b58a2)\",\n",
    "    \"U 2 (#caa171)\",\n",
    "    \"R 2 (#7807d2)\",\n",
    "    \"U 3 (#a77fa3)\",\n",
    "    \"L 2 (#015232)\",\n",
    "    \"U 2 (#7a21e3)\",\n",
    "]"
   ]
  },
  {
   "cell_type": "code",
   "execution_count": 2,
   "metadata": {},
   "outputs": [],
   "source": [
    "# with open(\"input\") as f:\n",
    "#     data = [line.strip() for line in f]"
   ]
  },
  {
   "cell_type": "code",
   "execution_count": 3,
   "metadata": {},
   "outputs": [],
   "source": [
    "def process_data():\n",
    "    for line in data:\n",
    "        d, n, c = line.split(\" \")\n",
    "        yield (d, int(n), c[2:8])\n",
    "\n",
    "instructions = list(process_data())"
   ]
  },
  {
   "cell_type": "code",
   "execution_count": 4,
   "metadata": {},
   "outputs": [],
   "source": [
    "def dig(pos, instruction, exterior_map):\n",
    "    d, n, c = instruction\n",
    "    dx, dy = {\n",
    "        \"U\": (0, -1),\n",
    "        \"D\": (0, 1),\n",
    "        \"L\": (-1, 0),\n",
    "        \"R\": (1, 0),\n",
    "    }[d]\n",
    "    for step in range(n):\n",
    "        x, y = pos\n",
    "        pos = (x + dx, y + dy)\n",
    "        exterior_map.add(pos)\n",
    "    return pos\n",
    "\n",
    "def fill_exterior():\n",
    "    pos = (0, 0)\n",
    "    exterior_map = {pos}\n",
    "    for instruction in instructions:\n",
    "        pos = dig(pos, instruction, exterior_map)\n",
    "    return exterior_map"
   ]
  },
  {
   "cell_type": "code",
   "execution_count": 15,
   "metadata": {},
   "outputs": [],
   "source": [
    "def draw_to_file(interior_map, exterior_map):\n",
    "    with open(\"map.txt\", \"w\") as f:\n",
    "        s = \"\"\n",
    "        for y in range(min_y, max_y + 1):\n",
    "            for x in range(min_x, max_x + 1):\n",
    "                if (x, y) in exterior_map:\n",
    "                    s += \"#\"\n",
    "                elif (x, y) in interior_map:\n",
    "                    s += \"@\"\n",
    "                else:\n",
    "                    s += \".\"\n",
    "            s += \"\\n\"\n",
    "        f.write(s)"
   ]
  },
  {
   "cell_type": "code",
   "execution_count": 30,
   "metadata": {},
   "outputs": [
    {
     "data": {
      "text/plain": [
       "38"
      ]
     },
     "execution_count": 30,
     "metadata": {},
     "output_type": "execute_result"
    }
   ],
   "source": [
    "exterior_map = fill_exterior()\n",
    "\n",
    "min_x = min([x for (x, y) in exterior_map])\n",
    "max_x = max([x for (x, y) in exterior_map])\n",
    "min_y = min([y for (x, y) in exterior_map])\n",
    "max_y = max([y for (x, y) in exterior_map])\n",
    "\n",
    "interior_map = fill_interior(exterior_map)\n",
    "len(interior_map)\n",
    "# exterior_map\n",
    "len(exterior_map | interior_map)"
   ]
  },
  {
   "cell_type": "code",
   "execution_count": 25,
   "metadata": {},
   "outputs": [],
   "source": [
    "draw_to_file(interior_map, exterior_map)"
   ]
  },
  {
   "cell_type": "code",
   "execution_count": null,
   "metadata": {},
   "outputs": [],
   "source": []
  }
 ],
 "metadata": {
  "kernelspec": {
   "display_name": "aoc",
   "language": "python",
   "name": "python3"
  },
  "language_info": {
   "codemirror_mode": {
    "name": "ipython",
    "version": 3
   },
   "file_extension": ".py",
   "mimetype": "text/x-python",
   "name": "python",
   "nbconvert_exporter": "python",
   "pygments_lexer": "ipython3",
   "version": "3.11.7"
  }
 },
 "nbformat": 4,
 "nbformat_minor": 2
}
