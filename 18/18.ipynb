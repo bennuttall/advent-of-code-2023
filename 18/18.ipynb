{
 "cells": [
  {
   "cell_type": "code",
   "execution_count": 1,
   "metadata": {},
   "outputs": [],
   "source": [
    "with open(\"input\") as f:\n",
    "    data = [line.strip() for line in f]"
   ]
  },
  {
   "cell_type": "code",
   "execution_count": 2,
   "metadata": {},
   "outputs": [],
   "source": [
    "def process_data():\n",
    "    for line in data:\n",
    "        d, n, c = line.split(\" \")\n",
    "        yield (d, int(n), c[2:8])"
   ]
  },
  {
   "cell_type": "code",
   "execution_count": 3,
   "metadata": {},
   "outputs": [],
   "source": [
    "from shapely import Polygon\n",
    "\n",
    "def dig(pos, instruction):\n",
    "    x, y = pos\n",
    "    d, n, c = instruction\n",
    "    return {\n",
    "        \"U\": (x, y - n),\n",
    "        \"D\": (x, y + n),\n",
    "        \"L\": (x - n, y),\n",
    "        \"R\": (x + n, y),\n",
    "    }[d]\n",
    "\n",
    "def fill_exterior(instructions):\n",
    "    exterior_map = [(0, 0)]\n",
    "    for instruction in instructions:\n",
    "        exterior_map.append(dig(exterior_map[-1], instruction))\n",
    "    return exterior_map\n",
    "\n",
    "def get_area(map: list):\n",
    "    p = Polygon(map)\n",
    "    for dx in (-0.5, 0, 0.5):\n",
    "        for dy in (-0.5, 0, 0.5):\n",
    "            p = p.union(Polygon([\n",
    "                (x + dx, y + dy)\n",
    "                for x, y in map\n",
    "            ]))\n",
    "    return int(p.area)"
   ]
  },
  {
   "cell_type": "code",
   "execution_count": 4,
   "metadata": {},
   "outputs": [
    {
     "name": "stdout",
     "output_type": "stream",
     "text": [
      "Part 1:\n",
      "70253\n"
     ]
    }
   ],
   "source": [
    "instructions = process_data()\n",
    "map = fill_exterior(instructions)\n",
    "print(\"Part 1:\")\n",
    "print(get_area(map))"
   ]
  }
 ],
 "metadata": {
  "kernelspec": {
   "display_name": "aoc",
   "language": "python",
   "name": "python3"
  },
  "language_info": {
   "codemirror_mode": {
    "name": "ipython",
    "version": 3
   },
   "file_extension": ".py",
   "mimetype": "text/x-python",
   "name": "python",
   "nbconvert_exporter": "python",
   "pygments_lexer": "ipython3",
   "version": "3.11.7"
  }
 },
 "nbformat": 4,
 "nbformat_minor": 2
}
