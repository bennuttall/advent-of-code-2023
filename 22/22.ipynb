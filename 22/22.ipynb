{
 "cells": [
  {
   "cell_type": "code",
   "execution_count": 1,
   "metadata": {},
   "outputs": [],
   "source": [
    "data = [\n",
    "    \"1,0,1~1,2,1\",\n",
    "    \"0,0,2~2,0,2\",\n",
    "    \"0,2,3~2,2,3\",\n",
    "    \"0,0,4~0,2,4\",\n",
    "    \"2,0,5~2,2,5\",\n",
    "    \"0,1,6~2,1,6\",\n",
    "    \"1,1,8~1,1,9\",\n",
    "]"
   ]
  },
  {
   "cell_type": "code",
   "execution_count": 37,
   "metadata": {},
   "outputs": [],
   "source": [
    "with open(\"input\") as f:\n",
    "    data = [line.strip() for line in f]"
   ]
  },
  {
   "cell_type": "code",
   "execution_count": 38,
   "metadata": {},
   "outputs": [],
   "source": [
    "class Brick:\n",
    "    def __init__(self, x: range, y: range, z: range, n: int):\n",
    "        self.x = x\n",
    "        self.y = y\n",
    "        self.z = z\n",
    "        self.n = n\n",
    "\n",
    "    def __repr__(self):\n",
    "        c = \"ABCDEFG\"[self.n]\n",
    "        return f\"<Brick {c} x={self.x} y={self.y} z={self.z}>\"\n",
    "\n",
    "    @classmethod\n",
    "    def from_coords(cls, c1, c2, n):\n",
    "        (x1, y1, z1) = c1\n",
    "        (x2, y2, z2) = c2\n",
    "        x = range(x1, x2 + 1)\n",
    "        y = range(y1, y2 + 1)\n",
    "        z = range(z1, z2 + 1)\n",
    "        return cls(x, y, z, n)\n",
    "\n",
    "    @property\n",
    "    def is_grounded(self):\n",
    "        return 1 in self.z\n",
    "    \n",
    "    @property\n",
    "    def new_brick_lower(self):\n",
    "        z1 = min(self.z)\n",
    "        if z1 == 1:\n",
    "            return self\n",
    "        z2 = max(self.z)\n",
    "        z = range(z1 - 1, z2)\n",
    "        return Brick(self.x, self.y, z, self.n)"
   ]
  },
  {
   "cell_type": "code",
   "execution_count": 39,
   "metadata": {},
   "outputs": [],
   "source": [
    "def make_brick(coords, n):\n",
    "    c1, c2 = coords\n",
    "    return Brick.from_coords(c1, c2, n)\n",
    "\n",
    "def make_bricks():\n",
    "    return [\n",
    "        make_brick((tuple(int(i) for i in c.split(\",\")) for c in line.split(\"~\")), n)\n",
    "        for n, line in enumerate(data)\n",
    "    ]"
   ]
  },
  {
   "cell_type": "code",
   "execution_count": 41,
   "metadata": {},
   "outputs": [],
   "source": [
    "def make_grid(bricks, z):\n",
    "    grid = set()\n",
    "    try:\n",
    "        min_x = min(min(b.x) for b in bricks)\n",
    "        max_x = max(max(b.x) for b in bricks)\n",
    "        min_y = min(min(b.y) for b in bricks)\n",
    "        max_y = max(max(b.y) for b in bricks)\n",
    "    except ValueError:\n",
    "        return grid\n",
    "    for x in range(min_x, max_x + 1):\n",
    "        for y in range(min_y, max_y + 1):\n",
    "            for b in bricks:\n",
    "                if x in b.x and y in b.y and z in b.z:\n",
    "                    assert (x, y) not in grid\n",
    "                    grid.add((x, y))\n",
    "    return grid\n",
    "\n",
    "def collides(brick, other_bricks):\n",
    "    for z in brick.z:\n",
    "        grid = make_grid(other_bricks, z)\n",
    "        for x in brick.x:\n",
    "            for y in brick.y:\n",
    "                if (x, y) in grid:\n",
    "                    return True\n",
    "    return False\n",
    "\n",
    "def get_other_bricks(bricks, brick):\n",
    "    return [b for b in bricks if b.n != brick.n]\n",
    "\n",
    "def iter_gravity(bricks):\n",
    "    for brick in bricks:\n",
    "        if brick.is_grounded:\n",
    "            yield (brick, True)\n",
    "            continue\n",
    "        new_brick = brick.new_brick_lower\n",
    "        other_bricks = get_other_bricks(bricks, brick)\n",
    "        if collides(new_brick, other_bricks):\n",
    "            yield (brick, True)\n",
    "        else:\n",
    "            yield (new_brick, False)\n",
    "\n",
    "def do_gravity(bricks):\n",
    "    while True:\n",
    "        update = list(iter_gravity(bricks))\n",
    "        bricks = [b for b, status in update]\n",
    "        if all([status for b, status in update]):\n",
    "            return bricks\n",
    "        \n",
    "def this_brick_can_disintegrate(brick, bricks):\n",
    "    other_bricks = get_other_bricks(bricks, brick)\n",
    "    return all([status for b, status in iter_gravity(other_bricks)])"
   ]
  },
  {
   "cell_type": "code",
   "execution_count": 42,
   "metadata": {},
   "outputs": [
    {
     "name": "stdout",
     "output_type": "stream",
     "text": [
      "Unexpected exception formatting exception. Falling back to standard exception\n"
     ]
    },
    {
     "name": "stderr",
     "output_type": "stream",
     "text": [
      "Traceback (most recent call last):\n",
      "  File \"/home/ben/.virtualenvs/aoc/lib/python3.11/site-packages/IPython/core/interactiveshell.py\", line 3550, in run_code\n",
      "    exec(code_obj, self.user_global_ns, self.user_ns)\n",
      "  File \"/tmp/ipykernel_164272/4020863724.py\", line 2, in <module>\n",
      "    bricks = list(do_gravity(bricks))\n",
      "                  ^^^^^^^^^^^^^^^^^^\n",
      "  File \"/tmp/ipykernel_164272/231494893.py\", line 44, in do_gravity\n",
      "    update = list(iter_gravity(bricks))\n",
      "             ^^^^^^^^^^^^^^^^^^^^^^^^^^\n",
      "  File \"/tmp/ipykernel_164272/231494893.py\", line 37, in iter_gravity\n",
      "    if collides(new_brick, other_bricks):\n",
      "       ^^^^^^^^^^^^^^^^^^^^^^^^^^^^^^^^^\n",
      "  File \"/tmp/ipykernel_164272/231494893.py\", line 20, in collides\n",
      "    grid = make_grid(other_bricks, z)\n",
      "           ^^^^^^^^^^^^^^^^^^^^^^^^^^\n",
      "  File \"/tmp/ipykernel_164272/231494893.py\", line None, in make_grid\n",
      "KeyboardInterrupt\n",
      "\n",
      "During handling of the above exception, another exception occurred:\n",
      "\n",
      "Traceback (most recent call last):\n",
      "  File \"/home/ben/.virtualenvs/aoc/lib/python3.11/site-packages/IPython/core/interactiveshell.py\", line 2144, in showtraceback\n",
      "    stb = self.InteractiveTB.structured_traceback(\n",
      "          ^^^^^^^^^^^^^^^^^^^^^^^^^^^^^^^^^^^^^^^^\n",
      "  File \"/home/ben/.virtualenvs/aoc/lib/python3.11/site-packages/IPython/core/ultratb.py\", line 1435, in structured_traceback\n",
      "    return FormattedTB.structured_traceback(\n",
      "           ^^^^^^^^^^^^^^^^^^^^^^^^^^^^^^^^^\n",
      "  File \"/home/ben/.virtualenvs/aoc/lib/python3.11/site-packages/IPython/core/ultratb.py\", line 1326, in structured_traceback\n",
      "    return VerboseTB.structured_traceback(\n",
      "           ^^^^^^^^^^^^^^^^^^^^^^^^^^^^^^^\n",
      "  File \"/home/ben/.virtualenvs/aoc/lib/python3.11/site-packages/IPython/core/ultratb.py\", line 1173, in structured_traceback\n",
      "    formatted_exception = self.format_exception_as_a_whole(etype, evalue, etb, number_of_lines_of_context,\n",
      "                          ^^^^^^^^^^^^^^^^^^^^^^^^^^^^^^^^^^^^^^^^^^^^^^^^^^^^^^^^^^^^^^^^^^^^^^^^^^^^^^^^\n",
      "  File \"/home/ben/.virtualenvs/aoc/lib/python3.11/site-packages/IPython/core/ultratb.py\", line 1088, in format_exception_as_a_whole\n",
      "    frames.append(self.format_record(record))\n",
      "                  ^^^^^^^^^^^^^^^^^^^^^^^^^^\n",
      "  File \"/home/ben/.virtualenvs/aoc/lib/python3.11/site-packages/IPython/core/ultratb.py\", line 970, in format_record\n",
      "    frame_info.lines, Colors, self.has_colors, lvals\n",
      "    ^^^^^^^^^^^^^^^^\n",
      "  File \"/home/ben/.virtualenvs/aoc/lib/python3.11/site-packages/IPython/core/ultratb.py\", line 792, in lines\n",
      "    return self._sd.lines\n",
      "           ^^^^^^^^^^^^^^\n",
      "  File \"/home/ben/.virtualenvs/aoc/lib/python3.11/site-packages/stack_data/utils.py\", line 145, in cached_property_wrapper\n",
      "    value = obj.__dict__[self.func.__name__] = self.func(obj)\n",
      "                                               ^^^^^^^^^^^^^^\n",
      "  File \"/home/ben/.virtualenvs/aoc/lib/python3.11/site-packages/stack_data/core.py\", line 734, in lines\n",
      "    pieces = self.included_pieces\n",
      "             ^^^^^^^^^^^^^^^^^^^^\n",
      "  File \"/home/ben/.virtualenvs/aoc/lib/python3.11/site-packages/stack_data/utils.py\", line 145, in cached_property_wrapper\n",
      "    value = obj.__dict__[self.func.__name__] = self.func(obj)\n",
      "                                               ^^^^^^^^^^^^^^\n",
      "  File \"/home/ben/.virtualenvs/aoc/lib/python3.11/site-packages/stack_data/core.py\", line 681, in included_pieces\n",
      "    pos = scope_pieces.index(self.executing_piece)\n",
      "                             ^^^^^^^^^^^^^^^^^^^^\n",
      "  File \"/home/ben/.virtualenvs/aoc/lib/python3.11/site-packages/stack_data/utils.py\", line 145, in cached_property_wrapper\n",
      "    value = obj.__dict__[self.func.__name__] = self.func(obj)\n",
      "                                               ^^^^^^^^^^^^^^\n",
      "  File \"/home/ben/.virtualenvs/aoc/lib/python3.11/site-packages/stack_data/core.py\", line 660, in executing_piece\n",
      "    return only(\n",
      "           ^^^^^\n",
      "  File \"/home/ben/.virtualenvs/aoc/lib/python3.11/site-packages/executing/executing.py\", line 116, in only\n",
      "    raise NotOneValueFound('Expected one value, found 0')\n",
      "executing.executing.NotOneValueFound: Expected one value, found 0\n"
     ]
    }
   ],
   "source": [
    "bricks = make_bricks()\n",
    "bricks = list(do_gravity(bricks))\n",
    "sum(this_brick_can_disintegrate(brick, bricks) for brick in bricks)"
   ]
  },
  {
   "cell_type": "code",
   "execution_count": 43,
   "metadata": {},
   "outputs": [
    {
     "data": {
      "text/plain": [
       "1203"
      ]
     },
     "execution_count": 43,
     "metadata": {},
     "output_type": "execute_result"
    }
   ],
   "source": [
    "len(bricks)"
   ]
  },
  {
   "cell_type": "code",
   "execution_count": 6,
   "metadata": {},
   "outputs": [],
   "source": [
    "def draw_xy(z):\n",
    "    print(f\"{z=}\")\n",
    "    grid = make_grid(z, bricks)\n",
    "    if not grid:\n",
    "        return\n",
    "    min_x = min(x for x, y in grid)\n",
    "    max_x = max(x for x, y in grid)\n",
    "    min_y = min(y for x, y in grid)\n",
    "    max_y = max(y for x, y in grid)\n",
    "    for y in range(min_y, max_y + 1):\n",
    "        for x in range(min_x, max_x + 1):\n",
    "            print(\"X\" if (x, y) in grid else \" \", end=\"\")\n",
    "        print()\n",
    "    print()"
   ]
  },
  {
   "cell_type": "code",
   "execution_count": 7,
   "metadata": {},
   "outputs": [],
   "source": [
    "# for z in range(10):\n",
    "#     draw_xy(z)"
   ]
  },
  {
   "cell_type": "code",
   "execution_count": 8,
   "metadata": {},
   "outputs": [],
   "source": [
    "# def draw(z):\n",
    "#     print(f\"{z=}\")\n",
    "#     for y in range(3):\n",
    "#         for x in range(3):\n",
    "#             c = \" \"\n",
    "#             for b in bricks:\n",
    "#                 if x in b.x and y in b.y and z in b.z:\n",
    "#                     c = \"X\"\n",
    "#             print(c, end=\"\")\n",
    "#         print()\n",
    "#     print()"
   ]
  }
 ],
 "metadata": {
  "kernelspec": {
   "display_name": "aoc",
   "language": "python",
   "name": "python3"
  },
  "language_info": {
   "codemirror_mode": {
    "name": "ipython",
    "version": 3
   },
   "file_extension": ".py",
   "mimetype": "text/x-python",
   "name": "python",
   "nbconvert_exporter": "python",
   "pygments_lexer": "ipython3",
   "version": "3.11.7"
  }
 },
 "nbformat": 4,
 "nbformat_minor": 2
}
