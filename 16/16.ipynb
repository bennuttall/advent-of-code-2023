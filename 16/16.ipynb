{
 "cells": [
  {
   "cell_type": "code",
   "execution_count": 1,
   "metadata": {},
   "outputs": [],
   "source": [
    "with open(\"input\") as f:\n",
    "    data = [line.strip() for line in f]"
   ]
  },
  {
   "cell_type": "code",
   "execution_count": 2,
   "metadata": {},
   "outputs": [],
   "source": [
    "def make_map():\n",
    "    map = {}\n",
    "    for y, line in enumerate(data):\n",
    "        for x, c in enumerate(line):\n",
    "            if c in r\"\\/|-\":\n",
    "                map[(x, y)] = c\n",
    "    return map, (x + 1, y + 1)\n",
    "\n",
    "map, (width, height) = make_map()"
   ]
  },
  {
   "cell_type": "code",
   "execution_count": 3,
   "metadata": {},
   "outputs": [],
   "source": [
    "def move(prev_pos, pos):\n",
    "    if (prev_pos, pos) in steps_taken:\n",
    "        return\n",
    "    steps_taken.add((prev_pos, pos))\n",
    "    x, y = pos\n",
    "    if 0 <= x < width and 0 <= y < height:\n",
    "        energised.add(pos)\n",
    "        c = map.get(pos)\n",
    "        if c:\n",
    "            if c in \"\\\\/\":\n",
    "                next_pos = handle_mirror(prev_pos, pos, c)\n",
    "                move(pos, next_pos)\n",
    "            elif c in \"|-\":\n",
    "                for next_pos in handle_splitter(prev_pos, pos, c):\n",
    "                    move(pos, next_pos)\n",
    "        else:\n",
    "            next_pos = carry_on(prev_pos, pos)\n",
    "            move(pos, next_pos)\n",
    "\n",
    "def carry_on(prev_pos, pos):\n",
    "    px, py = prev_pos\n",
    "    cx, cy = pos\n",
    "    dx = cx - px\n",
    "    dy = cy - py\n",
    "    return (cx + dx, cy + dy)\n",
    "\n",
    "def handle_mirror(prev_pos, mirror_pos, c):\n",
    "    px, py = prev_pos\n",
    "    mx, my = mirror_pos\n",
    "    dx = px - mx\n",
    "    dy = py - my\n",
    "    if c == \"/\":\n",
    "        return {\n",
    "            (0, -1): (mx - 1, my),\n",
    "            (1, 0): (mx, my + 1),\n",
    "            (0, 1): (mx + 1, my),\n",
    "            (-1, 0): (mx, my - 1),\n",
    "        }[(dx, dy)]\n",
    "    if c == \"\\\\\":\n",
    "        return {\n",
    "            (0, -1): (mx + 1, my),\n",
    "            (1, 0): (mx, my - 1),\n",
    "            (0, 1): (mx - 1, my),\n",
    "            (-1, 0): (mx, my + 1),\n",
    "        }[(dx, dy)]\n",
    "\n",
    "def handle_splitter(prev_pos, splitter_pos, c):\n",
    "    px, py = prev_pos\n",
    "    sx, sy = splitter_pos\n",
    "    dx = sx - px\n",
    "    dy = sy - py\n",
    "    if c == \"-\":\n",
    "        if dy == 0:\n",
    "            yield (sx + dx, sy)\n",
    "        else:\n",
    "            yield (sx - 1, sy)\n",
    "            yield (sx + 1, sy)\n",
    "    elif c == \"|\":\n",
    "        if dx == 0:\n",
    "            yield (sx, sy + dy)\n",
    "        else:\n",
    "            yield (sx, sy - 1)\n",
    "            yield (sx, sy + 1)\n",
    "\n",
    "energised = set()\n",
    "steps_taken = set()\n",
    "move(prev_pos=(-1, 0), pos=(0, 0))"
   ]
  },
  {
   "cell_type": "code",
   "execution_count": 4,
   "metadata": {},
   "outputs": [
    {
     "name": "stdout",
     "output_type": "stream",
     "text": [
      "Part 1:\n",
      "7623\n"
     ]
    }
   ],
   "source": [
    "print(\"Part 1:\")\n",
    "print(len(energised))"
   ]
  },
  {
   "cell_type": "code",
   "execution_count": 5,
   "metadata": {},
   "outputs": [],
   "source": [
    "def get_all_entry_points():\n",
    "    for x in range(width):\n",
    "        yield ((x, -1), (x, 0))\n",
    "        yield ((x, height), (x, height -1))\n",
    "    for y in range(height):\n",
    "        yield ((-1, y), (0, y))\n",
    "        yield ((width, y), (width - 1, y))"
   ]
  },
  {
   "cell_type": "code",
   "execution_count": 6,
   "metadata": {},
   "outputs": [],
   "source": [
    "max_energised = 0\n",
    "\n",
    "for prev_pos, pos in get_all_entry_points():\n",
    "    energised = set()\n",
    "    steps_taken = set()\n",
    "    move(prev_pos, pos)\n",
    "    max_energised = max([max_energised, len(energised)])"
   ]
  },
  {
   "cell_type": "code",
   "execution_count": 7,
   "metadata": {},
   "outputs": [
    {
     "name": "stdout",
     "output_type": "stream",
     "text": [
      "Part 1:\n",
      "8244\n"
     ]
    }
   ],
   "source": [
    "print(\"Part 1:\")\n",
    "print(max_energised)"
   ]
  }
 ],
 "metadata": {
  "kernelspec": {
   "display_name": "aoc",
   "language": "python",
   "name": "python3"
  },
  "language_info": {
   "codemirror_mode": {
    "name": "ipython",
    "version": 3
   },
   "file_extension": ".py",
   "mimetype": "text/x-python",
   "name": "python",
   "nbconvert_exporter": "python",
   "pygments_lexer": "ipython3",
   "version": "3.11.7"
  }
 },
 "nbformat": 4,
 "nbformat_minor": 2
}
