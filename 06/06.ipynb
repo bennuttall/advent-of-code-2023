{
 "cells": [
  {
   "cell_type": "code",
   "execution_count": 1,
   "metadata": {},
   "outputs": [],
   "source": [
    "with open('input') as f:\n",
    "    data = [line.strip() for line in f]"
   ]
  },
  {
   "cell_type": "code",
   "execution_count": 2,
   "metadata": {},
   "outputs": [],
   "source": [
    "def process_data():\n",
    "    for line in data:\n",
    "        nums = [int(n) for n in line.split(':')[-1].lstrip().split()]\n",
    "        if line.startswith('Time'):\n",
    "            times = nums\n",
    "        else:\n",
    "            distances = nums\n",
    "    return zip(times, distances)\n",
    "\n",
    "races = list(process_data())"
   ]
  },
  {
   "cell_type": "code",
   "execution_count": 3,
   "metadata": {},
   "outputs": [],
   "source": [
    "def do_race(time, max_time):\n",
    "    return time * (max_time - time)\n",
    "\n",
    "def count_winning_races(time, max_distance):\n",
    "    best = 0\n",
    "    for i in range(time + 1):\n",
    "        current = do_race(i, time)\n",
    "        best = max([best, current])\n",
    "        if current > max_distance:\n",
    "            yield 1\n",
    "        if current < best:\n",
    "            return\n",
    "\n",
    "def get_all_winning_races():\n",
    "    for time, distance in races:\n",
    "        yield sum(count_winning_races(time, distance))"
   ]
  },
  {
   "cell_type": "code",
   "execution_count": 4,
   "metadata": {},
   "outputs": [
    {
     "name": "stdout",
     "output_type": "stream",
     "text": [
      "Part 1:\n",
      "372000\n"
     ]
    }
   ],
   "source": [
    "from functools import reduce\n",
    "import operator\n",
    "\n",
    "print(\"Part 1:\")\n",
    "print(reduce(operator.mul, get_all_winning_races()))"
   ]
  },
  {
   "cell_type": "code",
   "execution_count": 5,
   "metadata": {},
   "outputs": [],
   "source": [
    "def get_time_and_distance_without_spaces():\n",
    "    return [\n",
    "        int(line.split(':')[-1].lstrip().replace(' ', ''))\n",
    "        for line in data\n",
    "    ]\n",
    "\n",
    "time, distance = get_time_and_distance_without_spaces()"
   ]
  },
  {
   "cell_type": "code",
   "execution_count": 6,
   "metadata": {},
   "outputs": [
    {
     "name": "stdout",
     "output_type": "stream",
     "text": [
      "Part 2:\n",
      "19008795\n"
     ]
    }
   ],
   "source": [
    "print(\"Part 2:\")\n",
    "print(sum(count_winning_races(time, distance)))"
   ]
  }
 ],
 "metadata": {
  "kernelspec": {
   "display_name": "aoc",
   "language": "python",
   "name": "python3"
  },
  "language_info": {
   "codemirror_mode": {
    "name": "ipython",
    "version": 3
   },
   "file_extension": ".py",
   "mimetype": "text/x-python",
   "name": "python",
   "nbconvert_exporter": "python",
   "pygments_lexer": "ipython3",
   "version": "3.11.6"
  }
 },
 "nbformat": 4,
 "nbformat_minor": 2
}
