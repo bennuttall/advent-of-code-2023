{
 "cells": [
  {
   "cell_type": "code",
   "execution_count": 7,
   "metadata": {},
   "outputs": [],
   "source": [
    "with open('input') as f:\n",
    "    data = [line.strip() for line in f]"
   ]
  },
  {
   "cell_type": "code",
   "execution_count": 8,
   "metadata": {},
   "outputs": [],
   "source": [
    "sequences = [[int(n) for n in line.split()] for line in data]"
   ]
  },
  {
   "cell_type": "code",
   "execution_count": 9,
   "metadata": {},
   "outputs": [],
   "source": [
    "from itertools import pairwise\n",
    "\n",
    "def get_differences(sequence):\n",
    "    return [b - a for a, b in pairwise(sequence)]\n",
    "\n",
    "def get_next_term(sequence):\n",
    "    diffs = get_differences(sequence)\n",
    "    if all(d == diffs[0] for d in diffs):\n",
    "        return sequence[-1] + diffs[0]\n",
    "    return sequence[-1] + get_next_term(diffs)"
   ]
  },
  {
   "cell_type": "code",
   "execution_count": 10,
   "metadata": {},
   "outputs": [
    {
     "name": "stdout",
     "output_type": "stream",
     "text": [
      "Part 1:\n",
      "1969958987\n"
     ]
    }
   ],
   "source": [
    "print(\"Part 1:\")\n",
    "print(sum(get_next_term(sequence) for sequence in sequences))"
   ]
  },
  {
   "cell_type": "code",
   "execution_count": 11,
   "metadata": {},
   "outputs": [],
   "source": [
    "def get_prev_term(sequence):\n",
    "    diffs = get_differences(sequence)\n",
    "    if all(d == diffs[0] for d in diffs):\n",
    "        return sequence[0] - diffs[0]\n",
    "    return sequence[0] - get_prev_term(diffs)"
   ]
  },
  {
   "cell_type": "code",
   "execution_count": 12,
   "metadata": {},
   "outputs": [
    {
     "name": "stdout",
     "output_type": "stream",
     "text": [
      "Part 2:\n",
      "1068\n"
     ]
    }
   ],
   "source": [
    "print(\"Part 2:\")\n",
    "print(sum(get_prev_term(sequence) for sequence in sequences))"
   ]
  }
 ],
 "metadata": {
  "kernelspec": {
   "display_name": "aoc",
   "language": "python",
   "name": "python3"
  },
  "language_info": {
   "codemirror_mode": {
    "name": "ipython",
    "version": 3
   },
   "file_extension": ".py",
   "mimetype": "text/x-python",
   "name": "python",
   "nbconvert_exporter": "python",
   "pygments_lexer": "ipython3",
   "version": "3.11.6"
  }
 },
 "nbformat": 4,
 "nbformat_minor": 2
}
