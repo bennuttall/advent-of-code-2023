{
 "cells": [
  {
   "cell_type": "code",
   "execution_count": 1,
   "metadata": {},
   "outputs": [],
   "source": [
    "with open(\"input\") as f:\n",
    "    data = [line.strip() for line in f]"
   ]
  },
  {
   "cell_type": "code",
   "execution_count": 2,
   "metadata": {},
   "outputs": [],
   "source": [
    "step_pattern = data[0]\n",
    "lines = [line.strip().replace(\"(\", \"\").replace(\")\", \"\").replace(\",\", \"\").split() for line in data[1:] if line]\n",
    "map = {\n",
    "    a: (b, c)\n",
    "    for a, _, b, c in lines\n",
    "}"
   ]
  },
  {
   "cell_type": "code",
   "execution_count": 3,
   "metadata": {},
   "outputs": [],
   "source": [
    "from itertools import cycle\n",
    "\n",
    "LR = {\n",
    "    \"L\": 0,\n",
    "    \"R\": 1\n",
    "}\n",
    "\n",
    "def step(pos, d):\n",
    "    return map[pos][LR[d]]\n",
    "\n",
    "def navigate():\n",
    "    pos = \"AAA\"\n",
    "    steps = 0\n",
    "    while True:\n",
    "        for d in cycle(step_pattern):\n",
    "            pos = step(pos, d)\n",
    "            steps += 1\n",
    "            if pos == \"ZZZ\":\n",
    "                return steps"
   ]
  },
  {
   "cell_type": "code",
   "execution_count": 4,
   "metadata": {},
   "outputs": [
    {
     "name": "stdout",
     "output_type": "stream",
     "text": [
      "Part 1:\n",
      "18023\n"
     ]
    }
   ],
   "source": [
    "print(\"Part 1:\")\n",
    "print(navigate())"
   ]
  },
  {
   "cell_type": "code",
   "execution_count": 5,
   "metadata": {},
   "outputs": [],
   "source": [
    "from math import gcd\n",
    "\n",
    "def get_all_a_positions():\n",
    "    return {pos for pos in map if pos.endswith(\"A\")}\n",
    "\n",
    "def navigate_like_a_ghost(pos):\n",
    "    steps = 0\n",
    "    while True:\n",
    "        for d in cycle(step_pattern):\n",
    "            pos = step(pos, d)\n",
    "            steps += 1\n",
    "            if pos.endswith(\"Z\"):\n",
    "                return steps\n",
    "\n",
    "def lcm_of_two(a, b):\n",
    "    return abs(a * b) // gcd(a, b)\n",
    "\n",
    "def lcm_of_six(numbers):\n",
    "    lcm_result = numbers[0]\n",
    "    for i in range(1, len(numbers)):\n",
    "        lcm_result = lcm_of_two(lcm_result, numbers[i])\n",
    "    return lcm_result"
   ]
  },
  {
   "cell_type": "code",
   "execution_count": 6,
   "metadata": {},
   "outputs": [
    {
     "name": "stdout",
     "output_type": "stream",
     "text": [
      "Part 2:\n",
      "14449445933179\n"
     ]
    }
   ],
   "source": [
    "print(\"Part 2:\")\n",
    "print(lcm_of_six([navigate_like_a_ghost(pos) for pos in get_all_a_positions()]))"
   ]
  }
 ],
 "metadata": {
  "kernelspec": {
   "display_name": "aoc",
   "language": "python",
   "name": "python3"
  },
  "language_info": {
   "codemirror_mode": {
    "name": "ipython",
    "version": 3
   },
   "file_extension": ".py",
   "mimetype": "text/x-python",
   "name": "python",
   "nbconvert_exporter": "python",
   "pygments_lexer": "ipython3",
   "version": "3.11.6"
  }
 },
 "nbformat": 4,
 "nbformat_minor": 2
}
