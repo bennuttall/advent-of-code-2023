{
 "cells": [
  {
   "cell_type": "code",
   "execution_count": 1,
   "metadata": {},
   "outputs": [],
   "source": [
    "with open(\"input\") as f:\n",
    "    data = [line.strip() for line in f]"
   ]
  },
  {
   "cell_type": "code",
   "execution_count": 2,
   "metadata": {},
   "outputs": [],
   "source": [
    "height = len(data)\n",
    "width = len(data[0])\n",
    "\n",
    "def find_rocks():\n",
    "    cubes = set()\n",
    "    rounded = set()\n",
    "    for y, line in enumerate(data):\n",
    "        for x, c in enumerate(line):\n",
    "            if c == \"#\":\n",
    "                cubes.add((x, y))\n",
    "            elif c == \"O\":\n",
    "                rounded.add((x, y))\n",
    "    return cubes, rounded\n",
    "\n",
    "def tilt_rock(x, y):\n",
    "    for y2 in reversed(range(y)):\n",
    "        pos = (x, y2)\n",
    "        if pos in cubes or pos in rounded:\n",
    "            return\n",
    "        rounded.remove((x, y))\n",
    "        rounded.add(pos)\n",
    "        y = y2\n",
    "\n",
    "def tilt():\n",
    "    for x in range(width):\n",
    "        for y in range(1, height):\n",
    "            if (x, y) in rounded:\n",
    "                tilt_rock(x, y)\n",
    "\n",
    "def calc_total_load():\n",
    "    return sum(height - y for (x, y) in rounded)\n",
    "\n",
    "cubes, rounded = find_rocks()"
   ]
  },
  {
   "cell_type": "code",
   "execution_count": 3,
   "metadata": {},
   "outputs": [
    {
     "name": "stdout",
     "output_type": "stream",
     "text": [
      "Part 1:\n",
      "105580\n"
     ]
    }
   ],
   "source": [
    "print(\"Part 1:\")\n",
    "print(calc_total_load())"
   ]
  },
  {
   "cell_type": "code",
   "execution_count": 4,
   "metadata": {},
   "outputs": [],
   "source": [
    "def tilt_north():\n",
    "    for x in range(width):\n",
    "        for y in range(1, height):\n",
    "            if (x, y) in rounded:\n",
    "                tilt_rock_north(x, y)\n",
    "\n",
    "def tilt_rock_north(x, y):\n",
    "    for y2 in reversed(range(y)):\n",
    "        pos = (x, y2)\n",
    "        if pos in cubes or pos in rounded:\n",
    "            return\n",
    "        rounded.remove((x, y))\n",
    "        rounded.add(pos)\n",
    "        y = y2\n",
    "\n",
    "def tilt_west():\n",
    "    for y in range(height):\n",
    "        for x in range(1, width):\n",
    "            if (x, y) in rounded:\n",
    "                tilt_rock_west(x, y)\n",
    "\n",
    "def tilt_rock_west(x, y):\n",
    "    for x2 in reversed(range(x)):\n",
    "        pos = (x2, y)\n",
    "        if pos in cubes or pos in rounded:\n",
    "            return\n",
    "        rounded.remove((x, y))\n",
    "        rounded.add(pos)\n",
    "        x = x2\n",
    "\n",
    "def tilt_south():\n",
    "    for x in range(width):\n",
    "        for y in reversed(range(height + 1)):\n",
    "            if (x, y) in rounded:\n",
    "                tilt_rock_south(x, y)\n",
    "\n",
    "def tilt_rock_south(x, y):\n",
    "    for y2 in range(y + 1, height):\n",
    "        pos = (x, y2)\n",
    "        if pos in cubes or pos in rounded:\n",
    "            return\n",
    "        rounded.remove((x, y))\n",
    "        rounded.add(pos)\n",
    "        y = y2\n",
    "\n",
    "def tilt_east():\n",
    "    for y in range(height):\n",
    "        for x in reversed(range(width + 1)):\n",
    "            if (x, y) in rounded:\n",
    "                tilt_rock_east(x, y)\n",
    "\n",
    "def tilt_rock_east(x, y):\n",
    "    for x2 in range(x + 1, width):\n",
    "        pos = (x2, y)\n",
    "        if pos in cubes or pos in rounded:\n",
    "            return\n",
    "        rounded.remove((x, y))\n",
    "        rounded.add(pos)\n",
    "        x = x2\n",
    "    \n",
    "def cycle():\n",
    "    tilt_north()\n",
    "    tilt_west()\n",
    "    tilt_south()\n",
    "    tilt_east()"
   ]
  },
  {
   "cell_type": "code",
   "execution_count": 5,
   "metadata": {},
   "outputs": [],
   "source": [
    "cubes, rounded = find_rocks()\n",
    "b = set()\n",
    "for i in range(1000):\n",
    "    cycle()"
   ]
  },
  {
   "cell_type": "code",
   "execution_count": 6,
   "metadata": {},
   "outputs": [
    {
     "name": "stdout",
     "output_type": "stream",
     "text": [
      "Part 2:\n",
      "94255\n"
     ]
    }
   ],
   "source": [
    "print(\"Part 2:\")\n",
    "print(sum(height - y for (x, y) in rounded))"
   ]
  }
 ],
 "metadata": {
  "kernelspec": {
   "display_name": "aoc",
   "language": "python",
   "name": "python3"
  },
  "language_info": {
   "codemirror_mode": {
    "name": "ipython",
    "version": 3
   },
   "file_extension": ".py",
   "mimetype": "text/x-python",
   "name": "python",
   "nbconvert_exporter": "python",
   "pygments_lexer": "ipython3",
   "version": "3.11.7"
  }
 },
 "nbformat": 4,
 "nbformat_minor": 2
}
