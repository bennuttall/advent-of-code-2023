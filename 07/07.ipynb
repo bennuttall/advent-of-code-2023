{
 "cells": [
  {
   "cell_type": "code",
   "execution_count": 1,
   "metadata": {},
   "outputs": [],
   "source": [
    "with open('input') as f:\n",
    "    data = [line.strip().split() for line in f]"
   ]
  },
  {
   "cell_type": "code",
   "execution_count": 2,
   "metadata": {},
   "outputs": [],
   "source": [
    "from collections import Counter\n",
    "from functools import cached_property, total_ordering\n",
    "\n",
    "\n",
    "VALUES = \"23456789TJQKA\"\n",
    "\n",
    "HAND_RANKS = (\n",
    "    \"High Card\",\n",
    "    \"One Pair\",\n",
    "    \"Two Pair\",\n",
    "    \"Three of a Kind\",\n",
    "    \"Full House\",\n",
    "    \"Four of a Kind\",\n",
    "    \"Five of a Kind\",\n",
    ")\n",
    "\n",
    "\n",
    "@total_ordering\n",
    "class CamelCardsHand:\n",
    "    def __init__(self, cards: str):\n",
    "        assert len(cards) == 5\n",
    "        self.cards = cards\n",
    "\n",
    "    def __repr__(self):\n",
    "        return f\"<CamelCardsHand object ({self})>\"\n",
    "    \n",
    "    def __str__(self):\n",
    "        return self.cards\n",
    "\n",
    "    def __iter__(self):\n",
    "        return iter(self.cards)\n",
    "\n",
    "    def __eq__(self, other: \"CamelCardsHand\"):\n",
    "        return self.rank_index == other.rank_index\n",
    "\n",
    "    def __gt__(self, other: \"CamelCardsHand\"):\n",
    "        return self.rank_index > other.rank_index\n",
    "\n",
    "    @cached_property\n",
    "    def rank(self):\n",
    "        card_values = Counter([card for card in self])\n",
    "        \n",
    "        if len(card_values) == 1:\n",
    "            return \"Five of a Kind\"\n",
    "        if len(card_values) == 2:\n",
    "            if 4 in card_values.values():\n",
    "                return \"Four of a Kind\"\n",
    "            return \"Full House\"\n",
    "        if len(card_values) == 3:\n",
    "            if 3 in card_values.values():\n",
    "                return \"Three of a Kind\"\n",
    "            return \"Two Pair\"\n",
    "        if len(card_values) == 4:\n",
    "            return \"One Pair\"\n",
    "        return \"High Card\"\n",
    "    \n",
    "    @cached_property\n",
    "    def rank_index(self):\n",
    "        return HAND_RANKS.index(self.rank)\n",
    "    \n",
    "def sort_hand_by_cards(hand):\n",
    "    return tuple([VALUES.index(card) for card in hand])"
   ]
  },
  {
   "cell_type": "code",
   "execution_count": 3,
   "metadata": {},
   "outputs": [],
   "source": [
    "all_hands = sorted([\n",
    "    (CamelCardsHand(hand_str), sort_hand_by_cards(hand_str), int(bid_str))\n",
    "    for hand_str, bid_str in data\n",
    "])"
   ]
  },
  {
   "cell_type": "code",
   "execution_count": 4,
   "metadata": {},
   "outputs": [
    {
     "name": "stdout",
     "output_type": "stream",
     "text": [
      "Part 1:\n",
      "253205868\n"
     ]
    }
   ],
   "source": [
    "print(\"Part 1:\")\n",
    "print(sum(rank * bid for rank, (hand, srt, bid) in enumerate(sorted(all_hands), start=1)))"
   ]
  },
  {
   "cell_type": "code",
   "execution_count": 5,
   "metadata": {},
   "outputs": [],
   "source": [
    "from itertools import combinations_with_replacement\n",
    "\n",
    "J_REPLACEMENTS = \"23456789TQKA\"\n",
    "\n",
    "def get_best_hand_with_joker_replacement(orig_values):\n",
    "    card_values = Counter(orig_values)\n",
    "    if \"J\" in card_values:\n",
    "        alt_hands = []\n",
    "        num_jokers = card_values[\"J\"]\n",
    "        for replacements in combinations_with_replacement(J_REPLACEMENTS, r=num_jokers):\n",
    "            alt_hand = list(orig_values)\n",
    "            for replacement in replacements:\n",
    "                j_pos = alt_hand.index(\"J\")\n",
    "                alt_hand[j_pos] = replacement\n",
    "            alt_hand_str = \"\".join(alt_hand)\n",
    "            alt_hands.append((CamelCardsHand(alt_hand_str), sort_hand_by_cards(orig_values)))\n",
    "        \n",
    "        best = max(alt_hands)\n",
    "        return best[0]\n",
    "    return CamelCardsHand(orig_values)\n",
    "\n",
    "def sort_hand_by_cards_with_joker(hand):\n",
    "    return tuple([VALUES.index(card) if card != \"J\" else -1 for card in hand])"
   ]
  },
  {
   "cell_type": "code",
   "execution_count": 6,
   "metadata": {},
   "outputs": [
    {
     "name": "stdout",
     "output_type": "stream",
     "text": [
      "Part 2:\n",
      "253907829\n"
     ]
    }
   ],
   "source": [
    "all_hands_with_replaced_jokers = sorted([\n",
    "    (get_best_hand_with_joker_replacement(hand_str), sort_hand_by_cards_with_joker(hand_str), hand_str, int(bid_str))\n",
    "    for hand_str, bid_str in data\n",
    "])\n",
    "print(\"Part 2:\")\n",
    "print(sum(rank * bid for rank, (hand, srt, hs, bid) in enumerate(all_hands_with_replaced_jokers, start=1)))"
   ]
  }
 ],
 "metadata": {
  "kernelspec": {
   "display_name": "aoc",
   "language": "python",
   "name": "python3"
  },
  "language_info": {
   "codemirror_mode": {
    "name": "ipython",
    "version": 3
   },
   "file_extension": ".py",
   "mimetype": "text/x-python",
   "name": "python",
   "nbconvert_exporter": "python",
   "pygments_lexer": "ipython3",
   "version": "3.11.6"
  }
 },
 "nbformat": 4,
 "nbformat_minor": 2
}
