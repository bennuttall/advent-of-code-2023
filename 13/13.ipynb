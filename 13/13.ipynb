{
 "cells": [
  {
   "cell_type": "code",
   "execution_count": 1,
   "metadata": {},
   "outputs": [],
   "source": [
    "data = [\n",
    "    \"#.##..##.\",\n",
    "    \"..#.##.#.\",\n",
    "    \"##......#\",\n",
    "    \"##......#\",\n",
    "    \"..#.##.#.\",\n",
    "    \"..##..##.\",\n",
    "    \"#.#.##.#.\",\n",
    "    \"\",\n",
    "    \"#...##..#\",\n",
    "    \"#....#..#\",\n",
    "    \"..##..###\",\n",
    "    \"#####.##.\",\n",
    "    \"#####.##.\",\n",
    "    \"..##..###\",\n",
    "    \"#....#..#\",\n",
    "]"
   ]
  },
  {
   "cell_type": "code",
   "execution_count": 2,
   "metadata": {},
   "outputs": [],
   "source": [
    "with open(\"input\") as f:\n",
    "    data = [line.strip() for line in f]"
   ]
  },
  {
   "cell_type": "code",
   "execution_count": 3,
   "metadata": {},
   "outputs": [],
   "source": [
    "def process_patterns(data: list[str]):\n",
    "    pattern = []\n",
    "    for line in data:\n",
    "        if line:\n",
    "            pattern.append(line)\n",
    "        else:\n",
    "            yield pattern\n",
    "            pattern = []\n",
    "    yield pattern"
   ]
  },
  {
   "cell_type": "code",
   "execution_count": 4,
   "metadata": {},
   "outputs": [],
   "source": [
    "patterns = list(process_patterns(data))"
   ]
  },
  {
   "cell_type": "code",
   "execution_count": 5,
   "metadata": {},
   "outputs": [],
   "source": [
    "from math import ceil\n",
    "\n",
    "def identify_reflections_in_line(line: str, reversed: bool = False):\n",
    "    if reversed:\n",
    "        line = line[::-1]\n",
    "    mid = ceil(len(line) / 2)\n",
    "    for i in range(mid):\n",
    "        sub = line[:i]\n",
    "        ref = line[i:i*2]\n",
    "        if sub and sub == ref[::-1]:\n",
    "            yield len(line) - i if reversed else i\n",
    "\n",
    "def identify_reflection_in_pattern_orientation(pattern: list[str], reversed: bool = False) -> set[int]:\n",
    "    common_reflections = None\n",
    "    for line in pattern:\n",
    "        reflections = set(identify_reflections_in_line(line, reversed))\n",
    "        if common_reflections is None:\n",
    "            common_reflections = reflections\n",
    "        else:\n",
    "            common_reflections &= reflections\n",
    "    return common_reflections\n",
    "\n",
    "def rotate(pattern):\n",
    "    yield pattern\n",
    "    yield [\n",
    "        \"\".join(line[y] for line in pattern)\n",
    "        for y in range(len(pattern[0]))\n",
    "    ]\n",
    "\n",
    "def identify_reflection_in_pattern(pattern: list[str]):\n",
    "    multipliers = [1, 100]\n",
    "    for m, rotation in zip(multipliers, rotate(pattern)):\n",
    "        for reversed in (True, False):\n",
    "            common_reflections = identify_reflection_in_pattern_orientation(rotation, reversed)\n",
    "            if common_reflections:\n",
    "                return m * list(common_reflections)[0]"
   ]
  },
  {
   "cell_type": "code",
   "execution_count": 6,
   "metadata": {},
   "outputs": [
    {
     "name": "stdout",
     "output_type": "stream",
     "text": [
      "Part 1:\n",
      "42974\n"
     ]
    }
   ],
   "source": [
    "print(\"Part 1:\")\n",
    "print(sum(identify_reflection_in_pattern(pattern) for pattern in patterns))"
   ]
  }
 ],
 "metadata": {
  "kernelspec": {
   "display_name": "aoc",
   "language": "python",
   "name": "python3"
  },
  "language_info": {
   "codemirror_mode": {
    "name": "ipython",
    "version": 3
   },
   "file_extension": ".py",
   "mimetype": "text/x-python",
   "name": "python",
   "nbconvert_exporter": "python",
   "pygments_lexer": "ipython3",
   "version": "3.11.6"
  }
 },
 "nbformat": 4,
 "nbformat_minor": 2
}
